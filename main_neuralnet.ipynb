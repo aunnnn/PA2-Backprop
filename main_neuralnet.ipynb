{
 "cells": [
  {
   "cell_type": "code",
   "execution_count": 23,
   "metadata": {},
   "outputs": [],
   "source": [
    "from neuralnet import *\n",
    "\n",
    "# Just for loading indicator, just remove it from 'for-loops' if don't have this lib\n",
    "from tqdm import tqdm_notebook as tqdm"
   ]
  },
  {
   "cell_type": "markdown",
   "metadata": {},
   "source": [
    "## a) Load data"
   ]
  },
  {
   "cell_type": "code",
   "execution_count": 24,
   "metadata": {},
   "outputs": [],
   "source": [
    "train_data_fname = 'data/MNIST_train.pkl'\n",
    "valid_data_fname = 'data/MNIST_valid.pkl'\n",
    "test_data_fname = 'data/MNIST_test.pkl'\n",
    "\n",
    "### Train the network ###\n",
    "model = Neuralnetwork(config)\n",
    "X_train, y_train = load_data(train_data_fname)\n",
    "X_valid, y_valid = load_data(valid_data_fname)\n",
    "X_test, y_test = load_data(test_data_fname)"
   ]
  },
  {
   "cell_type": "markdown",
   "metadata": {},
   "source": [
    "## b) Check with gradient approximation"
   ]
  },
  {
   "cell_type": "markdown",
   "metadata": {},
   "source": [
    "Below we have a function to test numerical approximation for all possible units in the network, then return ratio of those that are within O(epsilon^2) bounds."
   ]
  },
  {
   "cell_type": "markdown",
   "metadata": {},
   "source": [
    "### All Bias Checks"
   ]
  },
  {
   "cell_type": "code",
   "execution_count": 25,
   "metadata": {},
   "outputs": [
    {
     "name": "stdout",
     "output_type": "stream",
     "text": [
      "Check all possible biases...\n"
     ]
    },
    {
     "data": {
      "application/vnd.jupyter.widget-view+json": {
       "model_id": "4d33fe879ea44b3485795fbe1d110626",
       "version_major": 2,
       "version_minor": 0
      },
      "text/plain": [
       "HBox(children=(IntProgress(value=0, max=2), HTML(value='')))"
      ]
     },
     "metadata": {},
     "output_type": "display_data"
    },
    {
     "name": "stdout",
     "output_type": "stream",
     "text": [
      "\n",
      "Percent of weight approximation within bounds: 1.0\n"
     ]
    }
   ],
   "source": [
    "def test_approximation_bias(model, layer_ind, unit_ind, epsilon=1e-2, report_mode=False):\n",
    "  sample_test = np.random.randint(len(X_test))\n",
    "  X_sample = X_test[0,:].reshape((1,-1))\n",
    "  y_sample = y_test[0,:].reshape((1,-1))\n",
    "\n",
    "  original_w = model.layers[layer_ind].b[0,unit_ind]\n",
    "  \n",
    "  # Approximation\n",
    "  model.layers[layer_ind].b[0,unit_ind] = original_w + epsilon\n",
    "  w_plus_epsilon_loss, _ = model.forward_pass(X_sample, y_sample)\n",
    "  model.layers[layer_ind].b[0,unit_ind] = original_w - epsilon\n",
    "  w_minus_epsilon_loss, _ = model.forward_pass(X_sample, y_sample)\n",
    "  \n",
    "  estimated_dE_dw = (w_plus_epsilon_loss - w_minus_epsilon_loss)/(2*epsilon)\n",
    "  \n",
    "  # Restore\n",
    "  model.layers[layer_ind].b[0,unit_ind] = original_w\n",
    "  \n",
    "  # Actual BPP gradient\n",
    "  model.forward_pass(X_sample, y_sample)\n",
    "  model.backward_pass()\n",
    "  bpp_dE_dw = -model.layers[layer_ind].d_b[unit_ind]/len(X_sample)\n",
    "  \n",
    "  if report_mode:\n",
    "    print(\"Estimated:\", estimated_dE_dw, \"Actual BPP:\", bpp_dE_dw, \"Abs Diff\", abs(estimated_dE_dw - bpp_dE_dw))\n",
    "  return abs(estimated_dE_dw - bpp_dE_dw), abs(estimated_dE_dw - bpp_dE_dw) <= 9*epsilon**2\n",
    "  \n",
    "print(\"Check all possible biases...\")\n",
    "# BIAS CHECK\n",
    "EPSILON = 1e-4\n",
    "checks = []\n",
    "model = Neuralnetwork(config)\n",
    "for layer_i in tqdm([0, 2]):\n",
    "  for unit_i in range(model.layers[layer_i].b.shape[1]):\n",
    "    raw_diff, is_close_enough = test_approximation_bias(model, layer_i, unit_i, EPSILON)\n",
    "    checks.append(is_close_enough)\n",
    "    \n",
    "print(\"Percent of weight approximation within bounds:\", sum(checks)/len(checks))"
   ]
  },
  {
   "cell_type": "markdown",
   "metadata": {},
   "source": [
    "### Individual checks for report"
   ]
  },
  {
   "cell_type": "code",
   "execution_count": 26,
   "metadata": {},
   "outputs": [
    {
     "name": "stdout",
     "output_type": "stream",
     "text": [
      "Epsilon: 0.1\n",
      "Estimated: 9.129941247465467e-10 Actual BPP: 9.069444029224897e-10 Abs Diff 6.049721824057006e-12\n",
      "---------\n",
      "Epsilon: 0.01\n",
      "Estimated: 9.070078021977679e-10 Actual BPP: 9.069444029224897e-10 Abs Diff 6.339927527816159e-14\n",
      "---------\n",
      "Epsilon: 0.001\n",
      "Estimated: 9.07718344933528e-10 Actual BPP: 9.069444029224897e-10 Abs Diff 7.739420110382618e-13\n",
      "---------\n",
      "Epsilon: 0.0001\n",
      "Estimated: 9.059419880941277e-10 Actual BPP: 9.069444029224897e-10 Abs Diff 1.0024148283619887e-12\n",
      "---------\n"
     ]
    }
   ],
   "source": [
    "model = Neuralnetwork(config)\n",
    "for ep in [1e-1, 1e-2, 1e-3, 1e-4]:\n",
    "  print(\"Epsilon:\", ep)\n",
    "  test_approximation_bias(model, 0, 5, epsilon=ep, report_mode=True)\n",
    "  print(\"---------\")"
   ]
  },
  {
   "cell_type": "markdown",
   "metadata": {},
   "source": [
    "### All Weights Checks"
   ]
  },
  {
   "cell_type": "code",
   "execution_count": 27,
   "metadata": {
    "scrolled": true
   },
   "outputs": [
    {
     "name": "stdout",
     "output_type": "stream",
     "text": [
      "Check multiple weights, maximum of 100...\n"
     ]
    },
    {
     "data": {
      "application/vnd.jupyter.widget-view+json": {
       "model_id": "2d57081ea9354db9816be017a9100072",
       "version_major": 2,
       "version_minor": 0
      },
      "text/plain": [
       "HBox(children=(IntProgress(value=0, max=2), HTML(value='')))"
      ]
     },
     "metadata": {},
     "output_type": "display_data"
    },
    {
     "data": {
      "application/vnd.jupyter.widget-view+json": {
       "model_id": "87fd521773ff4c3995c02a9179e7bcfb",
       "version_major": 2,
       "version_minor": 0
      },
      "text/plain": [
       "HBox(children=(IntProgress(value=0), HTML(value='')))"
      ]
     },
     "metadata": {},
     "output_type": "display_data"
    },
    {
     "data": {
      "application/vnd.jupyter.widget-view+json": {
       "model_id": "06f7cd0955c2429589852e99a78912d3",
       "version_major": 2,
       "version_minor": 0
      },
      "text/plain": [
       "HBox(children=(IntProgress(value=0, max=50), HTML(value='')))"
      ]
     },
     "metadata": {},
     "output_type": "display_data"
    },
    {
     "name": "stdout",
     "output_type": "stream",
     "text": [
      "\n",
      "Percent of bias approximation within bounds: 1.0\n"
     ]
    }
   ],
   "source": [
    "def test_approximation_weight(model, layer_ind, unit_in, unit_out, epsilon=1e-2, report_mode=False):\n",
    "  sample_test = np.random.randint(len(X_test))\n",
    "  X_sample = X_test[sample_test,:].reshape((1,-1))\n",
    "  y_sample = y_test[sample_test,:].reshape((1,-1))\n",
    "\n",
    "  original_w = model.layers[layer_ind].w[unit_in, unit_out]\n",
    "  \n",
    "  # Approximation\n",
    "  model.layers[layer_ind].w[unit_in, unit_out] = original_w + epsilon\n",
    "  w_plus_epsilon_loss, _ = model.forward_pass(X_sample, y_sample)\n",
    "  model.layers[layer_ind].w[unit_in, unit_out] = original_w - epsilon\n",
    "  w_minus_epsilon_loss, _ = model.forward_pass(X_sample, y_sample)\n",
    "  \n",
    "  estimated_dE_dw = (w_plus_epsilon_loss - w_minus_epsilon_loss)/(2*epsilon)\n",
    "  \n",
    "  # Restore\n",
    "  model.layers[layer_ind].w[unit_in, unit_out] = original_w\n",
    "  \n",
    "  # Actual BPP gradient\n",
    "  model.forward_pass(X_sample, y_sample)\n",
    "  model.backward_pass()\n",
    "  bpp_dE_dw = -model.layers[layer_ind].d_w[unit_in, unit_out]/len(X_sample)\n",
    "  \n",
    "  if report_mode:\n",
    "    print(\"Estimated:\", estimated_dE_dw, \"Actual BPP:\", bpp_dE_dw, \"Abs Diff\", abs(estimated_dE_dw - bpp_dE_dw))\n",
    "  return abs(estimated_dE_dw - bpp_dE_dw), abs(estimated_dE_dw - bpp_dE_dw) <= 9*epsilon**2\n",
    "  \n",
    "# MASS BIAS CHECK\n",
    "print(\"Check multiple weights, maximum of 100...\")\n",
    "checks = []\n",
    "model = Neuralnetwork(config)\n",
    "for layer_i in tqdm([0, 2]):\n",
    "  for unit_in in tqdm(range(min(model.layers[layer_i].w.shape[0], 100))):\n",
    "    for unit_out in range(min(model.layers[layer_i].w.shape[1], 100)):\n",
    "      raw_diff, is_close_enough = test_approximation_weight(model, layer_i, unit_in, unit_out, EPSILON)\n",
    "      checks.append(is_close_enough)\n",
    "    \n",
    "print(\"Percent of bias approximation within bounds:\", sum(checks)/len(checks))"
   ]
  },
  {
   "cell_type": "markdown",
   "metadata": {},
   "source": [
    "### Individual weight check for report"
   ]
  },
  {
   "cell_type": "code",
   "execution_count": 28,
   "metadata": {},
   "outputs": [
    {
     "name": "stdout",
     "output_type": "stream",
     "text": [
      "Epsilon: 0.1\n",
      "Estimated: -3.1443283532439636e-08 Actual BPP: -3.123464274458815e-08 Abs Diff 2.0864078785148627e-10\n",
      "---------\n",
      "Epsilon: 0.01\n",
      "Estimated: 0.0010964286848214044 Actual BPP: 0.0010963570128047493 Abs Diff 7.167201665513913e-08\n",
      "---------\n",
      "Epsilon: 0.001\n",
      "Estimated: -0.39929861386056587 Actual BPP: -0.3992984508089363 Abs Diff 1.630516295869633e-07\n",
      "---------\n",
      "Epsilon: 0.0001\n",
      "Estimated: 0.0 Actual BPP: -7.332949006261695e-16 Abs Diff 7.332949006261695e-16\n",
      "---------\n"
     ]
    }
   ],
   "source": [
    "model = Neuralnetwork(config)\n",
    "for ep in [1e-1, 1e-2, 1e-3, 1e-4]:\n",
    "  print(\"Epsilon:\", ep)\n",
    "  test_approximation_weight(model, 0, 290, 22, epsilon=ep, report_mode=True)\n",
    "  print(\"---------\")"
   ]
  },
  {
   "cell_type": "markdown",
   "metadata": {},
   "source": [
    "## c) Loss/Accuracy vs epoch"
   ]
  },
  {
   "cell_type": "code",
   "execution_count": 33,
   "metadata": {},
   "outputs": [],
   "source": [
    "import matplotlib.pyplot as plt\n",
    "\n",
    "def evaluate_model(config):\n",
    "  \"\"\"\n",
    "    Train model with given config.\n",
    "    Return train_report that has train/valid losses and accuracies\n",
    "  \"\"\"\n",
    "  train_data_fname = 'data/MNIST_train.pkl'\n",
    "  valid_data_fname = 'data/MNIST_valid.pkl'\n",
    "  test_data_fname = 'data/MNIST_test.pkl'\n",
    "  \n",
    "  ### Train the network ###\n",
    "  model = Neuralnetwork(config)\n",
    "  X_train, y_train = load_data(train_data_fname)\n",
    "  X_valid, y_valid = load_data(valid_data_fname)\n",
    "  X_test, y_test = load_data(test_data_fname)\n",
    "  train_report = trainer(model, X_train, y_train, X_valid, y_valid, config, verbose=False)\n",
    "  test_acc = test(model, X_test, y_test, config)\n",
    "  print(\"Test Accuracy:\", test_acc)\n",
    "  return {\n",
    "    'config': config,\n",
    "    'model': model,\n",
    "    'train_report': train_report,\n",
    "    'test_acc': test_acc\n",
    "  }\n",
    "\n",
    "def plot_from_train_report(train_report):\n",
    "  \"\"\"\n",
    "    Plot two graphs from train_report: 1.train/valid losses vs epoch and 2. train/valid accuracies vs epoch\n",
    "  \"\"\"\n",
    "  \n",
    "  train_losses = train_report['train_losses']\n",
    "  valid_losses = train_report['valid_losses']\n",
    "  x = range(len(train_losses))\n",
    "  \n",
    "  plt.plot(x, train_losses, label='Train losses')\n",
    "  plt.plot(x, valid_losses, label='Validation losses')\n",
    "  plt.ylabel('Cross-Entropy Loss')\n",
    "  plt.xlabel('Epoch')\n",
    "  plt.legend(loc='best')\n",
    "  plt.title('Train & Validation loss vs. Epoch')\n",
    "  plt.show()\n",
    "  \n",
    "  \n",
    "  train_accs = train_report['train_accuracies']\n",
    "  valid_accs = train_report['valid_accuracies']\n",
    "  x = range(len(train_accs))\n",
    "  \n",
    "  plt.plot(x, train_accs, label='Train accuracies')\n",
    "  plt.plot(x, valid_accs, label='Validation accuracies')\n",
    "  plt.ylabel('Accuracies')\n",
    "  plt.xlabel('Epoch')\n",
    "  plt.legend(loc='best')\n",
    "  plt.title('Train & Validation accuracy vs. Epoch')\n",
    "  plt.show()"
   ]
  },
  {
   "cell_type": "markdown",
   "metadata": {},
   "source": [
    "## Config for part c)"
   ]
  },
  {
   "cell_type": "code",
   "execution_count": 34,
   "metadata": {},
   "outputs": [],
   "source": [
    "def default_config_part_c():\n",
    "  \"\"\"Return the default config used in part c)\"\"\"\n",
    "  \n",
    "  config = {}\n",
    "  config['layer_specs'] = [784, 50, 10]  # The length of list denotes number of hidden layers; each element denotes number of neurons in that layer; first element is the size of input layer, last element is the size of output layer.\n",
    "  config['activation'] = 'tanh' # Takes values 'sigmoid', 'tanh' or 'ReLU'; denotes activation function for hidden layers\n",
    "  config['batch_size'] = 256  # Number of training samples per batch to be passed to network\n",
    "  config['epochs'] = 100  # Number of epochs to train the model\n",
    "  config['early_stop'] = True  # Implement early stopping or not\n",
    "  config['early_stop_epoch'] = 5  # Number of epochs for which validation loss increases to be counted as overfitting\n",
    "  config['L2_penalty'] = 0  # Regularization constant\n",
    "  config['momentum'] = True  # Denotes if momentum is to be applied or not\n",
    "  config['momentum_gamma'] = 0.9  # Denotes the constant 'gamma' in momentum expression\n",
    "  config['learning_rate'] = 0.05 # Learning rate of gradient descent algorithm\n",
    "  return config\n",
    "\n",
    "def custom_config_from_part_c(diff_config):\n",
    "  \"\"\"Return config modified from part c) with the provided dict\"\"\"\n",
    "  \n",
    "  config = default_config_part_c()\n",
    "  for k,v in diff_config.items():\n",
    "    config[k] = v\n",
    "  return config\n",
    "  "
   ]
  },
  {
   "cell_type": "markdown",
   "metadata": {},
   "source": [
    "## Part c) Training"
   ]
  },
  {
   "cell_type": "code",
   "execution_count": 35,
   "metadata": {
    "scrolled": true
   },
   "outputs": [
    {
     "name": "stdout",
     "output_type": "stream",
     "text": [
      "------- Model Config: \n",
      "Activation: tanh \n",
      "N Epoches: 100 \n",
      "N Batches: 195 \n",
      "Batch size: 256 \n",
      "Learning rate: 0.05 \n",
      "L2 lambda: 0 \n",
      "Momentum? True\n",
      "Gamma: 0.9\n"
     ]
    },
    {
     "data": {
      "application/vnd.jupyter.widget-view+json": {
       "model_id": "b5990bde8110443abaf28e2859140b60",
       "version_major": 2,
       "version_minor": 0
      },
      "text/plain": [
       "HBox(children=(IntProgress(value=0), HTML(value='')))"
      ]
     },
     "metadata": {},
     "output_type": "display_data"
    },
    {
     "name": "stdout",
     "output_type": "stream",
     "text": [
      "Test Accuracy: 0.9149\n"
     ]
    },
    {
     "data": {
      "image/png": "[encoded data removed]",
      "text/plain": [
       "<Figure size 432x288 with 1 Axes>"
      ]
     },
     "metadata": {
      "needs_background": "light"
     },
     "output_type": "display_data"
    },
    {
     "data": {
      "image/png": "[encoded data removed]",
      "text/plain": [
       "<Figure size 432x288 with 1 Axes>"
      ]
     },
     "metadata": {
      "needs_background": "light"
     },
     "output_type": "display_data"
    }
   ],
   "source": [
    "def partc():\n",
    "  config = default_config_part_c()\n",
    "  report = evaluate_model(config)\n",
    "  train_report = report['train_report']\n",
    "  plot_from_train_report(train_report)\n",
    "partc()"
   ]
  },
  {
   "cell_type": "markdown",
   "metadata": {},
   "source": [
    "## d) L2-Regularization Experiments"
   ]
  },
  {
   "cell_type": "code",
   "execution_count": 37,
   "metadata": {},
   "outputs": [],
   "source": [
    "def partreg(l2lam=0.1):\n",
    "  config = custom_config_from_part_c({\n",
    "    'L2_penalty': l2lam,\n",
    "    'epochs': 200,\n",
    "  })\n",
    "  report = evaluate_model(config)\n",
    "  train_report = report['train_report']\n",
    "  plot_from_train_report(train_report)"
   ]
  },
  {
   "cell_type": "code",
   "execution_count": null,
   "metadata": {},
   "outputs": [],
   "source": [
    "partreg(1)"
   ]
  },
  {
   "cell_type": "code",
   "execution_count": null,
   "metadata": {},
   "outputs": [],
   "source": [
    "partreg(0.1)"
   ]
  },
  {
   "cell_type": "code",
   "execution_count": null,
   "metadata": {},
   "outputs": [],
   "source": [
    "partreg(0.001)"
   ]
  },
  {
   "cell_type": "code",
   "execution_count": null,
   "metadata": {},
   "outputs": [],
   "source": [
    "partreg(0.0001)"
   ]
  }
 ],
 "metadata": {
  "kernelspec": {
   "display_name": "Python 3",
   "language": "python",
   "name": "python3"
  },
  "language_info": {
   "codemirror_mode": {
    "name": "ipython",
    "version": 3
   },
   "file_extension": ".py",
   "mimetype": "text/x-python",
   "name": "python",
   "nbconvert_exporter": "python",
   "pygments_lexer": "ipython3",
   "version": "3.6.8"
  }
 },
 "nbformat": 4,
 "nbformat_minor": 2
}
