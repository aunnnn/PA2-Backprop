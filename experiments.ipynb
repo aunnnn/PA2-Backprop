{
 "cells": [
  {
   "cell_type": "code",
   "execution_count": 120,
   "metadata": {},
   "outputs": [],
   "source": [
    "import numpy as np\n",
    "import pickle\n",
    "from tqdm import tqdm_notebook as tqdm\n",
    "import matplotlib.pyplot as plt"
   ]
  },
  {
   "cell_type": "code",
   "execution_count": 90,
   "metadata": {},
   "outputs": [],
   "source": [
    "def softmax(x):\n",
    "  \"\"\"\n",
    "  Write the code for softmax activation function that takes in a numpy array and returns a numpy array.\n",
    "  \"\"\"\n",
    "  out_exp = np.exp(x)\n",
    "  sum_out_exp = out_exp.sum(axis=1)  \n",
    "  output = out_exp/sum_out_exp[:,None]  \n",
    "  return output\n",
    "\n",
    "def sigmoid(x):\n",
    "  \"\"\"\n",
    "  General Sigmoid function\n",
    "  \"\"\"\n",
    "  return 1./(1. + np.exp(-x))\n",
    "\n",
    "def load_data(fname):\n",
    "  \"\"\"\n",
    "  Write code to read the data and return it as 2 numpy arrays.\n",
    "  Make sure to convert labels to one hot encoded format.\n",
    "  \"\"\"\n",
    "  f = open(fname, 'rb')\n",
    "  data = pickle.load(f)\n",
    "  f.close()\n",
    "  images, labels = data[:, :-1], data[:, -1]\n",
    "\n",
    "  labels = labels.astype(np.int)\n",
    "  onehotlabels = np.zeros((len(labels), labels.max()+1))\n",
    "  onehotlabels[np.arange(len(labels)), labels] = 1\n",
    "  return images, onehotlabels\n",
    "\n",
    "\n",
    "class Activation:\n",
    "  def __init__(self, activation_type = \"sigmoid\"):\n",
    "    self.activation_type = activation_type\n",
    "    self.x = None # Save the input 'x' for sigmoid or tanh or ReLU to this variable since it will be used later for computing gradients.\n",
    "  \n",
    "  def forward_pass(self, a):\n",
    "    if self.activation_type == \"sigmoid\":\n",
    "      return self.sigmoid(a)\n",
    "    \n",
    "    elif self.activation_type == \"tanh\":\n",
    "      return self.tanh(a)\n",
    "    \n",
    "    elif self.activation_type == \"ReLU\":\n",
    "      return self.ReLU(a)\n",
    "  \n",
    "  def backward_pass(self, delta):\n",
    "    if self.activation_type == \"sigmoid\":\n",
    "      grad = self.grad_sigmoid()\n",
    "    \n",
    "    elif self.activation_type == \"tanh\":\n",
    "      grad = self.grad_tanh()\n",
    "    \n",
    "    elif self.activation_type == \"ReLU\":\n",
    "      grad = self.grad_ReLU()\n",
    "    \n",
    "    return grad * delta\n",
    "      \n",
    "  def sigmoid(self, x):\n",
    "    \"\"\"\n",
    "    Write the code for sigmoid activation function that takes in a numpy array and returns a numpy array.\n",
    "    \"\"\"\n",
    "    self.x = x\n",
    "    output = sigmoid(x)\n",
    "    return output\n",
    "\n",
    "  def tanh(self, x):\n",
    "    \"\"\"\n",
    "    Write the code for tanh activation function that takes in a numpy array and returns a numpy array.\n",
    "    \"\"\"\n",
    "    self.x = x\n",
    "    output = np.tanh(x)\n",
    "    return output\n",
    "\n",
    "  def ReLU(self, x):\n",
    "    \"\"\"\n",
    "    Write the code for ReLU activation function that takes in a numpy array and returns a numpy array.\n",
    "    \"\"\"\n",
    "    self.x = x\n",
    "    output = np.maximum(x, 0)\n",
    "    return output\n",
    "\n",
    "  def grad_sigmoid(self):\n",
    "    \"\"\"\n",
    "    Write the code for gradient through sigmoid activation function that takes in a numpy array and returns a numpy array.\n",
    "    \"\"\"\n",
    "    sigmoid_x = sigmoid(self.x)\n",
    "    grad = sigmoid_x * (1-sigmoid_x)\n",
    "    return grad\n",
    "\n",
    "  def grad_tanh(self):\n",
    "    \"\"\"\n",
    "    Write the code for gradient through tanh activation function that takes in a numpy array and returns a numpy array.\n",
    "    \"\"\"\n",
    "    tanh_x = np.tanh(self.x)\n",
    "    grad = 1 - (tanh_x * tanh_x)\n",
    "    return grad\n",
    "\n",
    "  def grad_ReLU(self):\n",
    "    \"\"\"\n",
    "    Write the code for gradient through ReLU activation function that takes in a numpy array and returns a numpy array.\n",
    "    \"\"\"\n",
    "    grad = np.where(self.x <= 0, 0, 1)\n",
    "    return grad\n",
    "\n",
    "\n",
    "class Layer():\n",
    "  def __init__(self, in_units, out_units):\n",
    "    np.random.seed(42)\n",
    "    self.w = np.random.randn(in_units, out_units)  # Weight matrix\n",
    "    self.b = np.zeros((1, out_units)).astype(np.float32)  # Bias\n",
    "    self.x = None  # Save the input to forward_pass in this\n",
    "    self.a = None  # Save the output of forward pass in this (without activation)\n",
    "    self.d_x = None  # Save the gradient w.r.t x in this (AKA Delta to pass to previous layer = dE/dx)\n",
    "    self.d_w = None  # Save the gradient w.r.t w in this (AKA dE/dw = Delta received . dx/dw)\n",
    "    self.d_b = None  # Save the gradient w.r.t b in this (AKA dE/db = Delta received . 1)\n",
    "\n",
    "  def forward_pass(self, x):\n",
    "    \"\"\"\n",
    "    Write the code for forward pass through a layer. Do not apply activation function here.\n",
    "    \"\"\"\n",
    "    self.x = x\n",
    "    self.a = x @ self.w + self.b\n",
    "    return self.a\n",
    "  \n",
    "  def backward_pass(self, delta):\n",
    "    \"\"\"\n",
    "    Write the code for backward pass. This takes in gradient from its next layer as input,\n",
    "    computes gradient for its weights and the delta to pass to its previous layers.\n",
    "    \"\"\"\n",
    "\n",
    "    # This is dE/dw = delta received . dx/dw\n",
    "    \n",
    "    def harmadards_sum(X, Y):\n",
    "      \"\"\"\n",
    "        X is [n, dim_x] \n",
    "        Y is [n, dim_y]\n",
    "        Return the sum of all harmadard products between each vector x and y at index i to n\n",
    "      \"\"\"\n",
    "      ans = np.zeros((X.shape[1], Y.shape[1]))\n",
    "      for i in range(len(X)):\n",
    "        ans += (X[i][:,None] * Y[i])\n",
    "      return ans\n",
    "    \n",
    "    self.d_w = harmadards_sum(self.x, delta)\n",
    "\n",
    "    # This is dE/db = delta received . 1\n",
    "    self.d_b = delta.sum(axis=0)\n",
    "                \n",
    "    # This is delta to be passed to previous layer\n",
    "    self.d_x = delta @ self.w.T\n",
    "    return self.d_x\n",
    "\n",
    "      \n",
    "class Neuralnetwork():\n",
    "  def __init__(self, config):\n",
    "    self.layers = []\n",
    "    self.x = None  # Save the input to forward_pass in this\n",
    "    self.y = None  # Save the output vector of model in this\n",
    "    self.targets = None  # Save the targets in forward_pass in this variable\n",
    "    for i in range(len(config['layer_specs']) - 1):\n",
    "      self.layers.append( Layer(config['layer_specs'][i], config['layer_specs'][i+1]) )\n",
    "      \n",
    "      # Unless it's output unit, add Activation layer on top\n",
    "      if i < len(config['layer_specs']) - 2:\n",
    "        self.layers.append(Activation(config['activation']))  \n",
    "    \n",
    "  def forward_pass(self, x, targets=None):\n",
    "    \"\"\"\n",
    "    Write the code for forward pass through all layers of the model and return loss and predictions.\n",
    "    If targets == None, loss should be None. If not, then return the loss computed.\n",
    "    \"\"\"\n",
    "    self.x = x\n",
    "    self.targets = targets\n",
    "    \n",
    "    # Input layer\n",
    "    out = self.layers[0].forward_pass(x)\n",
    "    \n",
    "    # Forward...\n",
    "    for layer in self.layers[1:]:\n",
    "        out = layer.forward_pass(out)\n",
    "      \n",
    "    # Softmax\n",
    "    self.y = softmax(out)\n",
    "        \n",
    "    # Cross-entropy loss\n",
    "    if targets is not None:\n",
    "      return self.loss_func(self.y, targets), self.y\n",
    "    else:    \n",
    "      return None, self.y\n",
    "\n",
    "  def loss_func(self, logits, targets):\n",
    "    '''\n",
    "    find cross entropy loss between logits and targets\n",
    "    '''\n",
    "    output = -(targets * np.log(logits)).sum()/len(targets)\n",
    "    return output\n",
    "    \n",
    "  def backward_pass(self):\n",
    "    '''\n",
    "    implement the backward pass for the whole network. \n",
    "    hint - use previously built functions.\n",
    "    '''\n",
    "    delta = self.targets - self.y\n",
    "    \n",
    "    for layer in reversed(self.layers):\n",
    "      delta = layer.backward_pass(delta)\n",
    "    return delta\n",
    "\n",
    "def trainer(model, X_train, y_train, X_valid, y_valid, config):\n",
    "  \"\"\"\n",
    "  Write the code to train the network. Use values from config to set parameters\n",
    "  such as L2 penalty, number of epochs, momentum, etc.\n",
    "  \"\"\"\n",
    "  \n",
    "  BATCH_SIZE = config['batch_size']\n",
    "  N_EPOCHS = config['epochs']\n",
    "  LEARNING_RATE = config['learning_rate']\n",
    "  \n",
    "  N_BATCHES = len(X_train) // BATCH_SIZE\n",
    "\n",
    "  EPOCHS_THRESHOLD = config['early_stop_epoch']\n",
    "\n",
    "  USE_MOMENTUM = config['momentum']\n",
    "  USE_EARLY_STOP = config['early_stop']\n",
    "  \n",
    "  L2_lambda = config['L2_penalty']\n",
    "  \n",
    "  GAMMA = 0\n",
    "  if USE_MOMENTUM:\n",
    "    GAMMA = config['momentum_gamma']\n",
    "  \n",
    "  ACTIVATION = config['activation']\n",
    "  \n",
    "  print(\"-------\",\n",
    "        \"Model Config:\",\n",
    "        \"\\nActivation:\", ACTIVATION, \n",
    "        \"\\nN Epoches:\", N_EPOCHS, \n",
    "        \"\\nN Batches:\",N_BATCHES, \n",
    "        \"\\nBatch size:\", BATCH_SIZE, \n",
    "        \"\\nLearning rate:\", LEARNING_RATE,\n",
    "        \"\\nL2 lambda:\", L2_lambda,\n",
    "        \"\\nMomentum?\", USE_MOMENTUM)\n",
    "  if USE_MOMENTUM:\n",
    "    print('Gamma:', GAMMA)\n",
    "\n",
    "  best_weight_layers = []\n",
    "  min_loss = float('inf')\n",
    "  prev_loss = float('inf')\n",
    "  consecutive_epochs = 0\n",
    "  \n",
    "  train_losses = []\n",
    "  valid_losses = []\n",
    "  train_accuracies = []\n",
    "  valid_accuracies = []\n",
    "  \n",
    "  for i_epoch in tqdm(range(N_EPOCHS)):\n",
    "    \n",
    "    def get_shuffle_inds():\n",
    "      shuffled_inds = np.arange(len(X_train))\n",
    "      np.random.shuffle(shuffled_inds)\n",
    "      return shuffled_inds\n",
    "    \n",
    "    shuffled_inds = get_shuffle_inds()        \n",
    "    \n",
    "    velocities_w = {l: np.zeros_like(l.w) for l in model.layers if type(l) is Layer}\n",
    "    velocities_b = {l: np.zeros_like(l.b) for l in model.layers if type(l) is Layer}\n",
    "    \n",
    "    for i_minibatch in range(0, len(X_train), BATCH_SIZE):\n",
    "      inds_batch = shuffled_inds[i_minibatch:i_minibatch + BATCH_SIZE]\n",
    "      X_batch = X_train[inds_batch]\n",
    "      y_batch = y_train[inds_batch]\n",
    "      \n",
    "      loss, _ = model.forward_pass(X_batch, y_batch)\n",
    "      delta = model.backward_pass()\n",
    "            \n",
    "      # Weight updates\n",
    "      for l in model.layers:\n",
    "        if type(l) is Layer:\n",
    "          \n",
    "          # To prevent confusion on sign when\n",
    "          # combining with momentum/regularization\n",
    "          # ------------------------------------\n",
    "          \n",
    "          # l.d_w and d_b is actually delta\n",
    "          delta_w = l.d_w\n",
    "          delta_b = l.d_b\n",
    "          \n",
    "          # To get gradient of loss E to w, negate it\n",
    "          \n",
    "          # Complete gradient of loss E with L2 Reg\n",
    "          # No reg for bias\n",
    "          dE_dw = (-delta_w + L2_lambda*l.w) / len(X_batch)\n",
    "          dE_db = -delta_b / len(X_batch)\n",
    "          \n",
    "          # Apply Momentum\n",
    "          prev_vw = velocities_w[l]\n",
    "          current_vw = GAMMA*prev_vw + LEARNING_RATE * dE_dw\n",
    "          \n",
    "          prev_vb = velocities_b[l]\n",
    "          current_vb = GAMMA*prev_vb + LEARNING_RATE * dE_db\n",
    "          \n",
    "          # Update weights\n",
    "          l.w -= current_vw\n",
    "          l.b -= current_vb\n",
    "          \n",
    "          # Save velocities\n",
    "          velocities_w[l] = current_vw\n",
    "          velocities_b[l] = current_vb\n",
    "\n",
    "    # RECORD FOR REPORT\n",
    "    loss_train, _ = model.forward_pass(X_train, y_train)\n",
    "    loss_valid, _ = model.forward_pass(X_valid, y_valid)    \n",
    "        \n",
    "    train_losses.append(loss_train)\n",
    "    valid_losses.append(loss_valid)\n",
    "    \n",
    "    accuracy_train = test(model, X_train, y_train, config)\n",
    "    accuracy_valid = test(model, X_valid, y_valid, config)\n",
    "    \n",
    "    train_accuracies.append(accuracy_train)\n",
    "    valid_accuracies.append(accuracy_valid)\n",
    "    \n",
    "    print('Epoch {} - loss train: {:4f} loss validation: {:4f} accuracy train: {:4f} accuracy validation: {:4f}'\n",
    "           .format(i_epoch, loss_train, loss_valid, accuracy_train, accuracy_valid))\n",
    "    \n",
    "    if USE_EARLY_STOP:      \n",
    "      if loss_valid < min_loss:\n",
    "        min_loss = loss_valid\n",
    "        best_weight_layers = model.layers\n",
    "      \n",
    "      if loss_valid > prev_loss:\n",
    "        consecutive_epochs += 1\n",
    "        if consecutive_epochs == EPOCHS_THRESHOLD:\n",
    "          model.layers = best_weight_layers\n",
    "          print('Stop training as validation loss increases for {} epochs'.format(EPOCHS_THRESHOLD))\n",
    "          break\n",
    "      else: \n",
    "        consecutive_epochs = 0\n",
    "      \n",
    "      prev_loss = loss_valid\n",
    "  return {\n",
    "    'train_losses': train_losses, \n",
    "    'valid_losses': valid_losses, \n",
    "    'train_accuracies': train_accuracies, \n",
    "    'valid_accuracies': valid_accuracies\n",
    "  }\n",
    "        \n",
    "      \n",
    "  \n",
    "def test(model, X_test, y_test, config):\n",
    "  \"\"\"\n",
    "  Write code to run the model on the data passed as input and return accuracy.\n",
    "  \"\"\"\n",
    "  _, logits = model.forward_pass(X_test)\n",
    "  predictions = np.argmax(logits, axis=1) # inds that we made predictions (0,1,2,3, ...)\n",
    "  \n",
    "  # convert y_test from one-hot to actual target inds\n",
    "  targets = y_test.nonzero()[1]\n",
    "  accuracy = (predictions == targets).sum()/len(targets)\n",
    "  return accuracy"
   ]
  },
  {
   "cell_type": "code",
   "execution_count": 91,
   "metadata": {},
   "outputs": [],
   "source": [
    "X_train, y_train = load_data('data/MNIST_train.pkl')\n",
    "X_valid, y_valid = load_data('data/MNIST_valid.pkl')\n",
    "X_test, y_test = load_data('data/MNIST_test.pkl')"
   ]
  },
  {
   "cell_type": "code",
   "execution_count": 130,
   "metadata": {},
   "outputs": [],
   "source": [
    "def visualize(train, validation, title, loss=True):\n",
    "    keyword = 'Loss'\n",
    "    if not loss:\n",
    "        keyword = 'Accuracy'\n",
    "    epoch = range(len(train))\n",
    "    plt.plot(epoch, train, label = 'Train {}'.format(keyword))\n",
    "    plt.plot(epoch, validation, label = 'Validation {}'.format(keyword))\n",
    "    plt.title(title)\n",
    "    plt.xlabel('Epochs')\n",
    "    plt.ylabel(keyword)\n",
    "    plt.show()"
   ]
  },
  {
   "cell_type": "markdown",
   "metadata": {},
   "source": [
    "### e) Experiments with activations"
   ]
  },
  {
   "cell_type": "code",
   "execution_count": 137,
   "metadata": {},
   "outputs": [],
   "source": [
    "def default_config():\n",
    "    config = {}\n",
    "    config['layer_specs'] = [784, 50, 10]  # The length of list denotes number of hidden layers; each element denotes number of neurons in that layer; first element is the size of input layer, last element is the size of output layer.\n",
    "    config['activation'] = 'tanh' # Takes values 'sigmoid', 'tanh' or 'ReLU'; denotes activation function for hidden layers\n",
    "    config['batch_size'] = 256  # Number of training samples per batch to be passed to network\n",
    "    config['epochs'] = 100  # Number of epochs to train the model\n",
    "    config['early_stop'] = True  # Implement early stopping or not\n",
    "    config['early_stop_epoch'] = 5  # Number of epochs for which validation loss increases to be counted as overfitting\n",
    "    config['L2_penalty'] = 0  # Regularization constant\n",
    "    config['momentum'] = True  # Denotes if momentum is to be applied or not\n",
    "    config['momentum_gamma'] = 0.9  # Denotes the constant 'gamma' in momentum expression\n",
    "    config['learning_rate'] = 0.05 # Learning rate of gradient descent algorithm\n",
    "    return config"
   ]
  },
  {
   "cell_type": "markdown",
   "metadata": {},
   "source": [
    "#### i. Sigmoid activation"
   ]
  },
  {
   "cell_type": "code",
   "execution_count": 128,
   "metadata": {},
   "outputs": [],
   "source": [
    "sigmoid_conf = default_config()\n",
    "sigmoid_conf['activation'] = 'sigmoid'\n",
    "sigmoid_net = Neuralnetwork(sigmoid_conf)"
   ]
  },
  {
   "cell_type": "code",
   "execution_count": 129,
   "metadata": {},
   "outputs": [
    {
     "name": "stdout",
     "output_type": "stream",
     "text": [
      "------- Model Config: \n",
      "Activation: sigmoid \n",
      "N Epoches: 100 \n",
      "N Batches: 195 \n",
      "Batch size: 256 \n",
      "Learning rate: 0.04 \n",
      "L2 lambda: 0 \n",
      "Momentum? True\n",
      "Gamma: 0.9\n"
     ]
    },
    {
     "data": {
      "application/vnd.jupyter.widget-view+json": {
       "model_id": "296875e98d2a4c83b752e90c2cf83096",
       "version_major": 2,
       "version_minor": 0
      },
      "text/plain": [
       "HBox(children=(IntProgress(value=0), HTML(value='')))"
      ]
     },
     "metadata": {},
     "output_type": "display_data"
    },
    {
     "name": "stdout",
     "output_type": "stream",
     "text": [
      "Epoch 0 - loss train: 1.039849 loss validation: 1.033644 accuracy train: 0.659360 accuracy validation: 0.664700\n",
      "Epoch 1 - loss train: 0.805473 loss validation: 0.800015 accuracy train: 0.737560 accuracy validation: 0.739100\n",
      "Epoch 2 - loss train: 0.699706 loss validation: 0.695655 accuracy train: 0.777820 accuracy validation: 0.778600\n",
      "Epoch 3 - loss train: 0.635085 loss validation: 0.637658 accuracy train: 0.797360 accuracy validation: 0.796400\n",
      "Epoch 4 - loss train: 0.582693 loss validation: 0.591179 accuracy train: 0.818140 accuracy validation: 0.814300\n",
      "Epoch 5 - loss train: 0.548380 loss validation: 0.558803 accuracy train: 0.829780 accuracy validation: 0.826900\n",
      "Epoch 6 - loss train: 0.520643 loss validation: 0.535936 accuracy train: 0.839100 accuracy validation: 0.835100\n",
      "Epoch 7 - loss train: 0.499033 loss validation: 0.514344 accuracy train: 0.846260 accuracy validation: 0.841200\n",
      "Epoch 8 - loss train: 0.473406 loss validation: 0.490779 accuracy train: 0.855420 accuracy validation: 0.848800\n",
      "Epoch 9 - loss train: 0.459845 loss validation: 0.479338 accuracy train: 0.859380 accuracy validation: 0.853700\n",
      "Epoch 10 - loss train: 0.442242 loss validation: 0.461517 accuracy train: 0.866080 accuracy validation: 0.861300\n",
      "Epoch 11 - loss train: 0.430019 loss validation: 0.450186 accuracy train: 0.870040 accuracy validation: 0.863100\n",
      "Epoch 12 - loss train: 0.416460 loss validation: 0.439436 accuracy train: 0.873940 accuracy validation: 0.868800\n",
      "Epoch 13 - loss train: 0.408745 loss validation: 0.430776 accuracy train: 0.876900 accuracy validation: 0.870700\n",
      "Epoch 14 - loss train: 0.398255 loss validation: 0.421121 accuracy train: 0.880140 accuracy validation: 0.871800\n",
      "Epoch 15 - loss train: 0.388617 loss validation: 0.412521 accuracy train: 0.883960 accuracy validation: 0.877400\n",
      "Epoch 16 - loss train: 0.381015 loss validation: 0.405898 accuracy train: 0.886540 accuracy validation: 0.877700\n",
      "Epoch 17 - loss train: 0.372604 loss validation: 0.401160 accuracy train: 0.888440 accuracy validation: 0.879000\n",
      "Epoch 18 - loss train: 0.364824 loss validation: 0.390821 accuracy train: 0.891520 accuracy validation: 0.885300\n",
      "Epoch 19 - loss train: 0.359829 loss validation: 0.389674 accuracy train: 0.891880 accuracy validation: 0.883400\n",
      "Epoch 20 - loss train: 0.352040 loss validation: 0.381503 accuracy train: 0.894520 accuracy validation: 0.887800\n",
      "Epoch 21 - loss train: 0.345996 loss validation: 0.378106 accuracy train: 0.897720 accuracy validation: 0.888500\n",
      "Epoch 22 - loss train: 0.340582 loss validation: 0.373874 accuracy train: 0.898380 accuracy validation: 0.889200\n",
      "Epoch 23 - loss train: 0.337343 loss validation: 0.370606 accuracy train: 0.898960 accuracy validation: 0.889800\n",
      "Epoch 24 - loss train: 0.327599 loss validation: 0.363331 accuracy train: 0.903840 accuracy validation: 0.891900\n",
      "Epoch 25 - loss train: 0.326168 loss validation: 0.363289 accuracy train: 0.903080 accuracy validation: 0.891500\n",
      "Epoch 26 - loss train: 0.319009 loss validation: 0.356438 accuracy train: 0.906100 accuracy validation: 0.894100\n",
      "Epoch 27 - loss train: 0.315866 loss validation: 0.354707 accuracy train: 0.907180 accuracy validation: 0.895100\n",
      "Epoch 28 - loss train: 0.309915 loss validation: 0.350508 accuracy train: 0.908800 accuracy validation: 0.896600\n",
      "Epoch 29 - loss train: 0.307662 loss validation: 0.349336 accuracy train: 0.908760 accuracy validation: 0.896100\n",
      "Epoch 30 - loss train: 0.302343 loss validation: 0.345065 accuracy train: 0.910580 accuracy validation: 0.898200\n",
      "Epoch 31 - loss train: 0.302093 loss validation: 0.344148 accuracy train: 0.911200 accuracy validation: 0.898600\n",
      "Epoch 32 - loss train: 0.296287 loss validation: 0.340708 accuracy train: 0.912540 accuracy validation: 0.901000\n",
      "Epoch 33 - loss train: 0.293653 loss validation: 0.339229 accuracy train: 0.913520 accuracy validation: 0.900300\n",
      "Epoch 34 - loss train: 0.290469 loss validation: 0.336818 accuracy train: 0.914020 accuracy validation: 0.900600\n",
      "Epoch 35 - loss train: 0.289683 loss validation: 0.335910 accuracy train: 0.914400 accuracy validation: 0.901700\n",
      "Epoch 36 - loss train: 0.283258 loss validation: 0.330493 accuracy train: 0.916700 accuracy validation: 0.901600\n",
      "Epoch 37 - loss train: 0.281715 loss validation: 0.331730 accuracy train: 0.917320 accuracy validation: 0.901800\n",
      "Epoch 38 - loss train: 0.280486 loss validation: 0.328588 accuracy train: 0.917540 accuracy validation: 0.902200\n",
      "Epoch 39 - loss train: 0.275470 loss validation: 0.325270 accuracy train: 0.918000 accuracy validation: 0.902300\n",
      "Epoch 40 - loss train: 0.273934 loss validation: 0.325506 accuracy train: 0.918780 accuracy validation: 0.902700\n",
      "Epoch 41 - loss train: 0.271357 loss validation: 0.322580 accuracy train: 0.919860 accuracy validation: 0.904100\n",
      "Epoch 42 - loss train: 0.269323 loss validation: 0.321938 accuracy train: 0.920780 accuracy validation: 0.905900\n",
      "Epoch 43 - loss train: 0.267341 loss validation: 0.322629 accuracy train: 0.921140 accuracy validation: 0.904200\n",
      "Epoch 44 - loss train: 0.262855 loss validation: 0.317124 accuracy train: 0.923060 accuracy validation: 0.906600\n",
      "Epoch 45 - loss train: 0.260220 loss validation: 0.315449 accuracy train: 0.924120 accuracy validation: 0.907100\n",
      "Epoch 46 - loss train: 0.258863 loss validation: 0.314775 accuracy train: 0.923040 accuracy validation: 0.904800\n",
      "Epoch 47 - loss train: 0.260002 loss validation: 0.314990 accuracy train: 0.923440 accuracy validation: 0.906800\n",
      "Epoch 48 - loss train: 0.253833 loss validation: 0.312790 accuracy train: 0.925880 accuracy validation: 0.907800\n",
      "Epoch 49 - loss train: 0.251229 loss validation: 0.309458 accuracy train: 0.926360 accuracy validation: 0.908600\n",
      "Epoch 50 - loss train: 0.250702 loss validation: 0.311404 accuracy train: 0.926100 accuracy validation: 0.908100\n",
      "Epoch 51 - loss train: 0.247318 loss validation: 0.307264 accuracy train: 0.927280 accuracy validation: 0.910200\n",
      "Epoch 52 - loss train: 0.246232 loss validation: 0.308176 accuracy train: 0.927420 accuracy validation: 0.910100\n",
      "Epoch 53 - loss train: 0.246484 loss validation: 0.307344 accuracy train: 0.926800 accuracy validation: 0.908700\n",
      "Epoch 54 - loss train: 0.241623 loss validation: 0.304134 accuracy train: 0.928920 accuracy validation: 0.909800\n",
      "Epoch 55 - loss train: 0.241791 loss validation: 0.305167 accuracy train: 0.930140 accuracy validation: 0.910600\n",
      "Epoch 56 - loss train: 0.239098 loss validation: 0.302414 accuracy train: 0.929520 accuracy validation: 0.910000\n",
      "Epoch 57 - loss train: 0.237836 loss validation: 0.302449 accuracy train: 0.929880 accuracy validation: 0.910600\n",
      "Epoch 58 - loss train: 0.238021 loss validation: 0.303249 accuracy train: 0.929940 accuracy validation: 0.910400\n",
      "Epoch 59 - loss train: 0.234638 loss validation: 0.301544 accuracy train: 0.930940 accuracy validation: 0.911300\n",
      "Epoch 60 - loss train: 0.232366 loss validation: 0.299948 accuracy train: 0.932160 accuracy validation: 0.912500\n",
      "Epoch 61 - loss train: 0.230864 loss validation: 0.298438 accuracy train: 0.932460 accuracy validation: 0.912200\n",
      "Epoch 62 - loss train: 0.231147 loss validation: 0.298601 accuracy train: 0.932680 accuracy validation: 0.912900\n",
      "Epoch 63 - loss train: 0.228446 loss validation: 0.299147 accuracy train: 0.932720 accuracy validation: 0.913500\n",
      "Epoch 64 - loss train: 0.226024 loss validation: 0.296124 accuracy train: 0.933480 accuracy validation: 0.913800\n",
      "Epoch 65 - loss train: 0.225618 loss validation: 0.295080 accuracy train: 0.933360 accuracy validation: 0.913900\n",
      "Epoch 66 - loss train: 0.223603 loss validation: 0.295384 accuracy train: 0.933780 accuracy validation: 0.914700\n",
      "Epoch 67 - loss train: 0.222450 loss validation: 0.294391 accuracy train: 0.933640 accuracy validation: 0.915100\n",
      "Epoch 68 - loss train: 0.222487 loss validation: 0.294585 accuracy train: 0.933460 accuracy validation: 0.913800\n",
      "Epoch 69 - loss train: 0.219698 loss validation: 0.292596 accuracy train: 0.934720 accuracy validation: 0.914600\n",
      "Epoch 70 - loss train: 0.219517 loss validation: 0.293359 accuracy train: 0.935200 accuracy validation: 0.914900\n",
      "Epoch 71 - loss train: 0.217630 loss validation: 0.292514 accuracy train: 0.935240 accuracy validation: 0.915600\n",
      "Epoch 72 - loss train: 0.215707 loss validation: 0.292196 accuracy train: 0.936540 accuracy validation: 0.914000\n"
     ]
    },
    {
     "name": "stdout",
     "output_type": "stream",
     "text": [
      "Epoch 73 - loss train: 0.215182 loss validation: 0.289724 accuracy train: 0.936040 accuracy validation: 0.916400\n",
      "Epoch 74 - loss train: 0.215337 loss validation: 0.292244 accuracy train: 0.937340 accuracy validation: 0.915200\n",
      "Epoch 75 - loss train: 0.212063 loss validation: 0.290049 accuracy train: 0.937640 accuracy validation: 0.915900\n",
      "Epoch 76 - loss train: 0.210367 loss validation: 0.289147 accuracy train: 0.937760 accuracy validation: 0.914500\n",
      "Epoch 77 - loss train: 0.210768 loss validation: 0.288683 accuracy train: 0.936940 accuracy validation: 0.914700\n",
      "Epoch 78 - loss train: 0.211923 loss validation: 0.288658 accuracy train: 0.936340 accuracy validation: 0.914900\n",
      "Epoch 79 - loss train: 0.207969 loss validation: 0.287732 accuracy train: 0.938680 accuracy validation: 0.915900\n",
      "Epoch 80 - loss train: 0.206555 loss validation: 0.284717 accuracy train: 0.939360 accuracy validation: 0.917900\n",
      "Epoch 81 - loss train: 0.206531 loss validation: 0.285480 accuracy train: 0.939220 accuracy validation: 0.916100\n",
      "Epoch 82 - loss train: 0.205935 loss validation: 0.285465 accuracy train: 0.938460 accuracy validation: 0.916800\n",
      "Epoch 83 - loss train: 0.207151 loss validation: 0.284663 accuracy train: 0.938040 accuracy validation: 0.917300\n",
      "Epoch 84 - loss train: 0.203600 loss validation: 0.282174 accuracy train: 0.940040 accuracy validation: 0.917900\n",
      "Epoch 85 - loss train: 0.203926 loss validation: 0.284915 accuracy train: 0.939600 accuracy validation: 0.917100\n",
      "Epoch 86 - loss train: 0.201136 loss validation: 0.283098 accuracy train: 0.940500 accuracy validation: 0.918400\n",
      "Epoch 87 - loss train: 0.200797 loss validation: 0.284147 accuracy train: 0.940280 accuracy validation: 0.917800\n",
      "Epoch 88 - loss train: 0.198777 loss validation: 0.281396 accuracy train: 0.941300 accuracy validation: 0.919600\n",
      "Epoch 89 - loss train: 0.197434 loss validation: 0.280987 accuracy train: 0.941340 accuracy validation: 0.919400\n",
      "Epoch 90 - loss train: 0.198064 loss validation: 0.279331 accuracy train: 0.940580 accuracy validation: 0.918400\n",
      "Epoch 91 - loss train: 0.198501 loss validation: 0.280626 accuracy train: 0.940620 accuracy validation: 0.917700\n",
      "Epoch 92 - loss train: 0.195377 loss validation: 0.279326 accuracy train: 0.942540 accuracy validation: 0.919600\n",
      "Epoch 93 - loss train: 0.194614 loss validation: 0.279745 accuracy train: 0.942700 accuracy validation: 0.918700\n",
      "Epoch 94 - loss train: 0.193273 loss validation: 0.279618 accuracy train: 0.942860 accuracy validation: 0.918300\n",
      "Epoch 95 - loss train: 0.192477 loss validation: 0.277953 accuracy train: 0.942840 accuracy validation: 0.919300\n",
      "Epoch 96 - loss train: 0.191587 loss validation: 0.279119 accuracy train: 0.943000 accuracy validation: 0.920200\n",
      "Epoch 97 - loss train: 0.194937 loss validation: 0.277972 accuracy train: 0.942340 accuracy validation: 0.919500\n",
      "Epoch 98 - loss train: 0.191253 loss validation: 0.276777 accuracy train: 0.943300 accuracy validation: 0.919800\n",
      "Epoch 99 - loss train: 0.190009 loss validation: 0.277964 accuracy train: 0.943260 accuracy validation: 0.920700\n"
     ]
    }
   ],
   "source": [
    "sigmoid_train_stats = trainer(sigmoid_net, X_train, y_train, X_valid, y_valid, sigmoid_conf)"
   ]
  },
  {
   "cell_type": "code",
   "execution_count": 132,
   "metadata": {},
   "outputs": [
    {
     "name": "stdout",
     "output_type": "stream",
     "text": [
      "test accuracy for sigmoid activation:  0.924\n"
     ]
    }
   ],
   "source": [
    "print(\"test accuracy for sigmoid activation: \", test(sigmoid_net, X_test, y_test, sigmoid_conf))"
   ]
  },
  {
   "cell_type": "code",
   "execution_count": 133,
   "metadata": {},
   "outputs": [
    {
     "data": {
      "image/png": "[encoded data removed]",
      "text/plain": [
       "<Figure size 432x288 with 1 Axes>"
      ]
     },
     "metadata": {
      "needs_background": "light"
     },
     "output_type": "display_data"
    }
   ],
   "source": [
    "visualize(sigmoid_train_stats['train_losses'], sigmoid_train_stats['valid_losses'], \"Sigmoid Activation\")"
   ]
  },
  {
   "cell_type": "code",
   "execution_count": 134,
   "metadata": {},
   "outputs": [
    {
     "data": {
      "image/png": "[encoded data removed]",
      "text/plain": [
       "<Figure size 432x288 with 1 Axes>"
      ]
     },
     "metadata": {
      "needs_background": "light"
     },
     "output_type": "display_data"
    }
   ],
   "source": [
    "visualize(sigmoid_train_stats['train_accuracies'], sigmoid_train_stats['valid_accuracies'], \"Sigmoid Activation\", False)"
   ]
  },
  {
   "cell_type": "markdown",
   "metadata": {},
   "source": [
    "#### ii. ReLU activation"
   ]
  },
  {
   "cell_type": "code",
   "execution_count": 176,
   "metadata": {},
   "outputs": [],
   "source": [
    "relu_conf = default_config()\n",
    "relu_conf['activation'] = 'ReLU'\n",
    "relu_net = Neuralnetwork(relu_conf)"
   ]
  },
  {
   "cell_type": "code",
   "execution_count": 177,
   "metadata": {},
   "outputs": [
    {
     "name": "stdout",
     "output_type": "stream",
     "text": [
      "------- Model Config: \n",
      "Activation: ReLU \n",
      "N Epoches: 100 \n",
      "N Batches: 195 \n",
      "Batch size: 256 \n",
      "Learning rate: 0.05 \n",
      "L2 lambda: 0 \n",
      "Momentum? True\n",
      "Gamma: 0.9\n"
     ]
    },
    {
     "data": {
      "application/vnd.jupyter.widget-view+json": {
       "model_id": "6afbdd00347645a48318edf8e8f37def",
       "version_major": 2,
       "version_minor": 0
      },
      "text/plain": [
       "HBox(children=(IntProgress(value=0), HTML(value='')))"
      ]
     },
     "metadata": {},
     "output_type": "display_data"
    },
    {
     "name": "stdout",
     "output_type": "stream",
     "text": [
      "Epoch 0 - loss train: 2.299486 loss validation: 2.301110 accuracy train: 0.112920 accuracy validation: 0.113700\n",
      "Epoch 1 - loss train: 2.283063 loss validation: 2.280464 accuracy train: 0.123500 accuracy validation: 0.125300\n",
      "Epoch 2 - loss train: 2.134919 loss validation: 2.129761 accuracy train: 0.195520 accuracy validation: 0.200700\n",
      "Epoch 3 - loss train: 2.033547 loss validation: 2.041324 accuracy train: 0.249080 accuracy validation: 0.252600\n",
      "Epoch 4 - loss train: 1.908430 loss validation: 1.910159 accuracy train: 0.296420 accuracy validation: 0.303300\n",
      "Epoch 5 - loss train: 1.842436 loss validation: 1.839595 accuracy train: 0.332360 accuracy validation: 0.340500\n",
      "Epoch 6 - loss train: 1.848992 loss validation: 1.831811 accuracy train: 0.322440 accuracy validation: 0.332200\n",
      "Epoch 7 - loss train: 1.841277 loss validation: 1.849805 accuracy train: 0.320420 accuracy validation: 0.324800\n",
      "Epoch 8 - loss train: 1.581463 loss validation: 1.570852 accuracy train: 0.397000 accuracy validation: 0.404100\n",
      "Epoch 9 - loss train: 1.492186 loss validation: 1.489604 accuracy train: 0.433920 accuracy validation: 0.446300\n",
      "Epoch 10 - loss train: 1.436467 loss validation: 1.430460 accuracy train: 0.473160 accuracy validation: 0.479900\n",
      "Epoch 11 - loss train: 1.410931 loss validation: 1.407596 accuracy train: 0.468520 accuracy validation: 0.472700\n",
      "Epoch 12 - loss train: 1.467706 loss validation: 1.468136 accuracy train: 0.453080 accuracy validation: 0.457200\n",
      "Epoch 13 - loss train: 1.350341 loss validation: 1.343185 accuracy train: 0.512500 accuracy validation: 0.516300\n",
      "Epoch 14 - loss train: 1.316869 loss validation: 1.318546 accuracy train: 0.507480 accuracy validation: 0.504900\n",
      "Epoch 15 - loss train: 1.284604 loss validation: 1.277278 accuracy train: 0.512280 accuracy validation: 0.512300\n",
      "Epoch 16 - loss train: 1.229437 loss validation: 1.220958 accuracy train: 0.534900 accuracy validation: 0.535900\n",
      "Epoch 17 - loss train: 1.212644 loss validation: 1.206253 accuracy train: 0.559620 accuracy validation: 0.562300\n",
      "Epoch 18 - loss train: 1.196902 loss validation: 1.188702 accuracy train: 0.563840 accuracy validation: 0.570600\n",
      "Epoch 19 - loss train: 1.261197 loss validation: 1.256995 accuracy train: 0.529580 accuracy validation: 0.530900\n",
      "Epoch 20 - loss train: 1.251372 loss validation: 1.240129 accuracy train: 0.533260 accuracy validation: 0.541600\n",
      "Epoch 21 - loss train: 1.107445 loss validation: 1.100027 accuracy train: 0.596060 accuracy validation: 0.600100\n",
      "Epoch 22 - loss train: 1.114604 loss validation: 1.109019 accuracy train: 0.603680 accuracy validation: 0.608200\n",
      "Epoch 23 - loss train: 1.152656 loss validation: 1.145932 accuracy train: 0.582840 accuracy validation: 0.586700\n",
      "Epoch 24 - loss train: 1.154189 loss validation: 1.146403 accuracy train: 0.600820 accuracy validation: 0.604700\n",
      "Epoch 25 - loss train: 1.161991 loss validation: 1.155129 accuracy train: 0.596560 accuracy validation: 0.596800\n",
      "Epoch 26 - loss train: 1.149208 loss validation: 1.143042 accuracy train: 0.565700 accuracy validation: 0.572100\n",
      "Epoch 27 - loss train: 1.124542 loss validation: 1.120385 accuracy train: 0.585460 accuracy validation: 0.582300\n",
      "Epoch 28 - loss train: 1.066088 loss validation: 1.061209 accuracy train: 0.636800 accuracy validation: 0.637300\n",
      "Epoch 29 - loss train: 1.164697 loss validation: 1.164291 accuracy train: 0.599060 accuracy validation: 0.597300\n",
      "Epoch 30 - loss train: 0.936312 loss validation: 0.931276 accuracy train: 0.695620 accuracy validation: 0.696200\n",
      "Epoch 31 - loss train: 0.965492 loss validation: 0.959039 accuracy train: 0.690900 accuracy validation: 0.694900\n",
      "Epoch 32 - loss train: 0.966797 loss validation: 0.958500 accuracy train: 0.721080 accuracy validation: 0.725900\n",
      "Epoch 33 - loss train: 0.889851 loss validation: 0.889699 accuracy train: 0.729360 accuracy validation: 0.727800\n",
      "Epoch 34 - loss train: 0.943843 loss validation: 0.940709 accuracy train: 0.712700 accuracy validation: 0.714800\n",
      "Epoch 35 - loss train: 0.791217 loss validation: 0.792738 accuracy train: 0.761740 accuracy validation: 0.763400\n",
      "Epoch 36 - loss train: 0.794469 loss validation: 0.791378 accuracy train: 0.762420 accuracy validation: 0.763600\n",
      "Epoch 37 - loss train: 0.841948 loss validation: 0.844190 accuracy train: 0.721680 accuracy validation: 0.720200\n",
      "Epoch 38 - loss train: 0.823630 loss validation: 0.831691 accuracy train: 0.756300 accuracy validation: 0.752200\n",
      "Epoch 39 - loss train: 0.778479 loss validation: 0.785762 accuracy train: 0.764440 accuracy validation: 0.764600\n",
      "Epoch 40 - loss train: 0.762857 loss validation: 0.775784 accuracy train: 0.769600 accuracy validation: 0.766900\n",
      "Epoch 41 - loss train: 0.740404 loss validation: 0.747378 accuracy train: 0.778820 accuracy validation: 0.778200\n",
      "Epoch 42 - loss train: 0.747660 loss validation: 0.756339 accuracy train: 0.775320 accuracy validation: 0.772100\n",
      "Epoch 43 - loss train: 0.823991 loss validation: 0.833125 accuracy train: 0.743020 accuracy validation: 0.739500\n",
      "Epoch 44 - loss train: 0.728850 loss validation: 0.742236 accuracy train: 0.786580 accuracy validation: 0.783200\n",
      "Epoch 45 - loss train: 0.737085 loss validation: 0.741498 accuracy train: 0.776360 accuracy validation: 0.774100\n",
      "Epoch 46 - loss train: 0.750030 loss validation: 0.767688 accuracy train: 0.774360 accuracy validation: 0.767700\n",
      "Epoch 47 - loss train: 0.690318 loss validation: 0.703552 accuracy train: 0.797000 accuracy validation: 0.797300\n",
      "Epoch 48 - loss train: 0.775827 loss validation: 0.787393 accuracy train: 0.771780 accuracy validation: 0.771400\n",
      "Epoch 49 - loss train: 0.738007 loss validation: 0.747224 accuracy train: 0.780340 accuracy validation: 0.778900\n",
      "Epoch 50 - loss train: 0.758337 loss validation: 0.776175 accuracy train: 0.776700 accuracy validation: 0.775400\n",
      "Epoch 51 - loss train: 0.752971 loss validation: 0.763717 accuracy train: 0.771000 accuracy validation: 0.767100\n",
      "Epoch 52 - loss train: 0.718806 loss validation: 0.735682 accuracy train: 0.788700 accuracy validation: 0.788700\n",
      "Epoch 53 - loss train: 0.706911 loss validation: 0.721793 accuracy train: 0.787800 accuracy validation: 0.788100\n",
      "Epoch 54 - loss train: 0.761114 loss validation: 0.776093 accuracy train: 0.769380 accuracy validation: 0.764400\n",
      "Epoch 55 - loss train: 0.873015 loss validation: 0.890572 accuracy train: 0.701100 accuracy validation: 0.703900\n",
      "Epoch 56 - loss train: 0.698487 loss validation: 0.710397 accuracy train: 0.792860 accuracy validation: 0.791200\n",
      "Epoch 57 - loss train: 0.733719 loss validation: 0.751726 accuracy train: 0.777380 accuracy validation: 0.776400\n",
      "Epoch 58 - loss train: 0.702098 loss validation: 0.720536 accuracy train: 0.788640 accuracy validation: 0.786300\n",
      "Epoch 59 - loss train: 0.698789 loss validation: 0.723214 accuracy train: 0.798380 accuracy validation: 0.794100\n",
      "Epoch 60 - loss train: 0.741255 loss validation: 0.755178 accuracy train: 0.781480 accuracy validation: 0.779700\n",
      "Epoch 61 - loss train: 0.764666 loss validation: 0.796471 accuracy train: 0.769540 accuracy validation: 0.767500\n",
      "Epoch 62 - loss train: 0.722152 loss validation: 0.741687 accuracy train: 0.787140 accuracy validation: 0.782800\n",
      "Epoch 63 - loss train: 0.780849 loss validation: 0.794969 accuracy train: 0.758620 accuracy validation: 0.757200\n",
      "Epoch 64 - loss train: 0.863027 loss validation: 0.881675 accuracy train: 0.738360 accuracy validation: 0.737900\n",
      "Epoch 65 - loss train: 0.711645 loss validation: 0.729689 accuracy train: 0.797520 accuracy validation: 0.796500\n",
      "Epoch 66 - loss train: 0.754361 loss validation: 0.775931 accuracy train: 0.766460 accuracy validation: 0.763500\n",
      "Epoch 67 - loss train: 0.754582 loss validation: 0.765212 accuracy train: 0.763780 accuracy validation: 0.761500\n",
      "Epoch 68 - loss train: 0.660732 loss validation: 0.681343 accuracy train: 0.805900 accuracy validation: 0.802400\n",
      "Epoch 69 - loss train: 0.689535 loss validation: 0.713385 accuracy train: 0.793180 accuracy validation: 0.790800\n",
      "Epoch 70 - loss train: 0.659280 loss validation: 0.676241 accuracy train: 0.804980 accuracy validation: 0.807200\n",
      "Epoch 71 - loss train: 0.688142 loss validation: 0.700116 accuracy train: 0.798940 accuracy validation: 0.798400\n",
      "Epoch 72 - loss train: 0.689704 loss validation: 0.709796 accuracy train: 0.798680 accuracy validation: 0.799800\n"
     ]
    },
    {
     "name": "stdout",
     "output_type": "stream",
     "text": [
      "Epoch 73 - loss train: 0.694554 loss validation: 0.714550 accuracy train: 0.788320 accuracy validation: 0.783400\n",
      "Epoch 74 - loss train: 0.682992 loss validation: 0.702476 accuracy train: 0.796340 accuracy validation: 0.791300\n",
      "Epoch 75 - loss train: 0.740644 loss validation: 0.757173 accuracy train: 0.782080 accuracy validation: 0.783100\n",
      "Epoch 76 - loss train: 0.709682 loss validation: 0.729078 accuracy train: 0.783880 accuracy validation: 0.779200\n",
      "Epoch 77 - loss train: 0.728371 loss validation: 0.744843 accuracy train: 0.788160 accuracy validation: 0.787200\n",
      "Epoch 78 - loss train: 0.668258 loss validation: 0.680363 accuracy train: 0.801360 accuracy validation: 0.797400\n",
      "Epoch 79 - loss train: 0.723990 loss validation: 0.747638 accuracy train: 0.786060 accuracy validation: 0.786500\n",
      "Epoch 80 - loss train: 0.700648 loss validation: 0.717617 accuracy train: 0.784520 accuracy validation: 0.781000\n",
      "Epoch 81 - loss train: 0.728269 loss validation: 0.753251 accuracy train: 0.781560 accuracy validation: 0.779600\n",
      "Epoch 82 - loss train: 0.720941 loss validation: 0.733610 accuracy train: 0.778200 accuracy validation: 0.778100\n",
      "Epoch 83 - loss train: 0.686428 loss validation: 0.715896 accuracy train: 0.795060 accuracy validation: 0.794600\n",
      "Epoch 84 - loss train: 0.701702 loss validation: 0.725298 accuracy train: 0.781520 accuracy validation: 0.779000\n",
      "Epoch 85 - loss train: 0.654114 loss validation: 0.677161 accuracy train: 0.805700 accuracy validation: 0.801800\n",
      "Epoch 86 - loss train: 0.694787 loss validation: 0.714685 accuracy train: 0.796820 accuracy validation: 0.795200\n",
      "Epoch 87 - loss train: 0.676516 loss validation: 0.698999 accuracy train: 0.791660 accuracy validation: 0.788500\n",
      "Epoch 88 - loss train: 0.655882 loss validation: 0.676479 accuracy train: 0.807180 accuracy validation: 0.804000\n",
      "Epoch 89 - loss train: 0.688266 loss validation: 0.711154 accuracy train: 0.786060 accuracy validation: 0.782400\n",
      "Epoch 90 - loss train: 0.691808 loss validation: 0.708723 accuracy train: 0.788020 accuracy validation: 0.788100\n",
      "Epoch 91 - loss train: 0.649011 loss validation: 0.669173 accuracy train: 0.810000 accuracy validation: 0.807400\n",
      "Epoch 92 - loss train: 0.729912 loss validation: 0.750528 accuracy train: 0.777980 accuracy validation: 0.777900\n",
      "Epoch 93 - loss train: 0.675974 loss validation: 0.699861 accuracy train: 0.799040 accuracy validation: 0.792200\n",
      "Epoch 94 - loss train: 0.677616 loss validation: 0.697088 accuracy train: 0.792920 accuracy validation: 0.791400\n",
      "Epoch 95 - loss train: 0.668119 loss validation: 0.687598 accuracy train: 0.796260 accuracy validation: 0.794300\n",
      "Epoch 96 - loss train: 0.670361 loss validation: 0.698238 accuracy train: 0.797680 accuracy validation: 0.793400\n",
      "Epoch 97 - loss train: 0.750207 loss validation: 0.778018 accuracy train: 0.769040 accuracy validation: 0.766600\n",
      "Epoch 98 - loss train: 0.718549 loss validation: 0.736500 accuracy train: 0.782100 accuracy validation: 0.778600\n",
      "Epoch 99 - loss train: 0.691936 loss validation: 0.716609 accuracy train: 0.793840 accuracy validation: 0.789200\n"
     ]
    }
   ],
   "source": [
    "relu_train_stats = trainer(relu_net, X_train, y_train, X_valid, y_valid, relu_conf)"
   ]
  },
  {
   "cell_type": "code",
   "execution_count": 178,
   "metadata": {},
   "outputs": [
    {
     "name": "stdout",
     "output_type": "stream",
     "text": [
      "test accuracy for ReLU activation:  0.7939\n"
     ]
    }
   ],
   "source": [
    "print(\"test accuracy for ReLU activation: \", test(relu_net, X_test, y_test, relu_conf))"
   ]
  },
  {
   "cell_type": "code",
   "execution_count": 179,
   "metadata": {},
   "outputs": [
    {
     "data": {
      "image/png": "[encoded data removed]",
      "text/plain": [
       "<Figure size 432x288 with 1 Axes>"
      ]
     },
     "metadata": {
      "needs_background": "light"
     },
     "output_type": "display_data"
    }
   ],
   "source": [
    "visualize(relu_train_stats['train_losses'], relu_train_stats['valid_losses'], \"ReLU Activation\")"
   ]
  },
  {
   "cell_type": "code",
   "execution_count": 180,
   "metadata": {},
   "outputs": [
    {
     "data": {
      "image/png": "[encoded data removed]",
      "text/plain": [
       "<Figure size 432x288 with 1 Axes>"
      ]
     },
     "metadata": {
      "needs_background": "light"
     },
     "output_type": "display_data"
    }
   ],
   "source": [
    "visualize(relu_train_stats['train_accuracies'], relu_train_stats['valid_accuracies'], \"ReLU Activation\", False)"
   ]
  },
  {
   "cell_type": "code",
   "execution_count": 158,
   "metadata": {},
   "outputs": [],
   "source": [
    "relu_conf2 = default_config()\n",
    "relu_conf2['activation'] = 'ReLU'\n",
    "relu_conf2['layer_specs'] = [784, 100, 10]\n",
    "relu_conf2['learning_rate'] = 0.005\n",
    "relu_net2 = Neuralnetwork(relu_conf2)"
   ]
  },
  {
   "cell_type": "code",
   "execution_count": 159,
   "metadata": {},
   "outputs": [
    {
     "name": "stdout",
     "output_type": "stream",
     "text": [
      "------- Model Config: \n",
      "Activation: ReLU \n",
      "N Epoches: 100 \n",
      "N Batches: 195 \n",
      "Batch size: 256 \n",
      "Learning rate: 0.005 \n",
      "L2 lambda: 0 \n",
      "Momentum? True\n",
      "Gamma: 0.9\n"
     ]
    },
    {
     "data": {
      "application/vnd.jupyter.widget-view+json": {
       "model_id": "67d86de17b4e47b1a07a72737c35591e",
       "version_major": 2,
       "version_minor": 0
      },
      "text/plain": [
       "HBox(children=(IntProgress(value=0), HTML(value='')))"
      ]
     },
     "metadata": {},
     "output_type": "display_data"
    },
    {
     "name": "stderr",
     "output_type": "stream",
     "text": [
      "/Users/ntemiyasathit/anaconda3/envs/py36/lib/python3.7/site-packages/ipykernel_launcher.py:196: RuntimeWarning: divide by zero encountered in log\n",
      "/Users/ntemiyasathit/anaconda3/envs/py36/lib/python3.7/site-packages/ipykernel_launcher.py:196: RuntimeWarning: invalid value encountered in multiply\n"
     ]
    },
    {
     "name": "stdout",
     "output_type": "stream",
     "text": [
      "Epoch 0 - loss train: 2.905662 loss validation: 2.886562 accuracy train: 0.691060 accuracy validation: 0.697600\n",
      "Epoch 1 - loss train: 1.662351 loss validation: 1.668120 accuracy train: 0.673900 accuracy validation: 0.675300\n",
      "Epoch 2 - loss train: 1.310842 loss validation: 1.345001 accuracy train: 0.704560 accuracy validation: 0.701400\n",
      "Epoch 3 - loss train: 1.134925 loss validation: 1.178869 accuracy train: 0.719580 accuracy validation: 0.717100\n",
      "Epoch 4 - loss train: 1.020647 loss validation: 1.065063 accuracy train: 0.736960 accuracy validation: 0.736900\n",
      "Epoch 5 - loss train: 0.935261 loss validation: 0.980952 accuracy train: 0.751040 accuracy validation: 0.751500\n",
      "Epoch 6 - loss train: 0.871326 loss validation: 0.916518 accuracy train: 0.763080 accuracy validation: 0.762900\n",
      "Epoch 7 - loss train: 0.814146 loss validation: 0.856428 accuracy train: 0.774340 accuracy validation: 0.774900\n",
      "Epoch 8 - loss train: 0.767835 loss validation: 0.809599 accuracy train: 0.782660 accuracy validation: 0.783600\n",
      "Epoch 9 - loss train: 0.725826 loss validation: 0.768789 accuracy train: 0.794780 accuracy validation: 0.793600\n",
      "Epoch 10 - loss train: 0.709290 loss validation: 0.752834 accuracy train: 0.795220 accuracy validation: 0.796500\n",
      "Epoch 11 - loss train: 0.676140 loss validation: 0.720827 accuracy train: 0.804340 accuracy validation: 0.804400\n",
      "Epoch 12 - loss train: 0.644943 loss validation: 0.691702 accuracy train: 0.811280 accuracy validation: 0.809000\n",
      "Epoch 13 - loss train: 0.634424 loss validation: 0.681368 accuracy train: 0.814260 accuracy validation: 0.813500\n",
      "Epoch 14 - loss train: 0.608822 loss validation: 0.656062 accuracy train: 0.822220 accuracy validation: 0.822900\n",
      "Epoch 15 - loss train: 0.586598 loss validation: 0.631608 accuracy train: 0.826180 accuracy validation: 0.825500\n",
      "Epoch 16 - loss train: 0.570524 loss validation: 0.617142 accuracy train: 0.831000 accuracy validation: 0.831200\n",
      "Epoch 17 - loss train: 0.555539 loss validation: 0.601795 accuracy train: 0.835140 accuracy validation: 0.835900\n",
      "Epoch 18 - loss train: 0.546768 loss validation: 0.593721 accuracy train: 0.836700 accuracy validation: 0.836700\n",
      "Epoch 19 - loss train: 0.542852 loss validation: 0.590708 accuracy train: 0.835500 accuracy validation: 0.838500\n",
      "Epoch 20 - loss train: 0.520762 loss validation: 0.566616 accuracy train: 0.842900 accuracy validation: 0.846200\n",
      "Epoch 21 - loss train: 0.511759 loss validation: 0.558613 accuracy train: 0.845400 accuracy validation: 0.848700\n",
      "Epoch 22 - loss train: 0.503440 loss validation: 0.552257 accuracy train: 0.848540 accuracy validation: 0.847700\n",
      "Epoch 23 - loss train: 0.491092 loss validation: 0.536622 accuracy train: 0.851800 accuracy validation: 0.853200\n",
      "Epoch 24 - loss train: 0.484723 loss validation: 0.529775 accuracy train: 0.853840 accuracy validation: 0.854500\n",
      "Epoch 25 - loss train: 0.501976 loss validation: 0.550331 accuracy train: 0.847220 accuracy validation: 0.847100\n",
      "Epoch 26 - loss train: 0.475965 loss validation: 0.521091 accuracy train: 0.856740 accuracy validation: 0.858200\n",
      "Epoch 27 - loss train: 0.478314 loss validation: 0.525635 accuracy train: 0.853380 accuracy validation: 0.852000\n",
      "Epoch 28 - loss train: 0.474800 loss validation: 0.527537 accuracy train: 0.855920 accuracy validation: 0.855100\n",
      "Epoch 29 - loss train: 0.454224 loss validation: 0.499799 accuracy train: 0.860640 accuracy validation: 0.860600\n",
      "Epoch 30 - loss train: 0.455578 loss validation: 0.501480 accuracy train: 0.861080 accuracy validation: 0.862000\n",
      "Epoch 31 - loss train: 0.455178 loss validation: 0.503779 accuracy train: 0.861520 accuracy validation: 0.859200\n",
      "Epoch 32 - loss train: 0.436791 loss validation: 0.482909 accuracy train: 0.866460 accuracy validation: 0.866000\n",
      "Epoch 33 - loss train: 0.437492 loss validation: 0.483712 accuracy train: 0.866480 accuracy validation: 0.866900\n",
      "Epoch 34 - loss train: 0.427700 loss validation: 0.478556 accuracy train: 0.869460 accuracy validation: 0.867700\n",
      "Epoch 35 - loss train: 0.425200 loss validation: 0.474710 accuracy train: 0.868480 accuracy validation: 0.865400\n",
      "Epoch 36 - loss train: 0.428325 loss validation: 0.477387 accuracy train: 0.868360 accuracy validation: 0.867800\n",
      "Epoch 37 - loss train: 0.424749 loss validation: 0.468295 accuracy train: 0.870780 accuracy validation: 0.871200\n",
      "Epoch 38 - loss train: 0.410810 loss validation: 0.458761 accuracy train: 0.872740 accuracy validation: 0.874000\n",
      "Epoch 39 - loss train: 0.407919 loss validation: 0.455909 accuracy train: 0.874340 accuracy validation: 0.874600\n",
      "Epoch 40 - loss train: 0.405745 loss validation: 0.455727 accuracy train: 0.873960 accuracy validation: 0.873300\n",
      "Epoch 41 - loss train: 0.397734 loss validation: 0.446564 accuracy train: 0.877480 accuracy validation: 0.880200\n",
      "Epoch 42 - loss train: 0.413681 loss validation: 0.464433 accuracy train: 0.870920 accuracy validation: 0.866300\n",
      "Epoch 43 - loss train: 0.394236 loss validation: 0.443574 accuracy train: 0.879260 accuracy validation: 0.878700\n",
      "Epoch 44 - loss train: 0.392748 loss validation: 0.439347 accuracy train: 0.879120 accuracy validation: 0.879500\n",
      "Epoch 45 - loss train: 0.393291 loss validation: 0.445113 accuracy train: 0.878160 accuracy validation: 0.877700\n",
      "Epoch 46 - loss train: 0.383102 loss validation: 0.430883 accuracy train: 0.882460 accuracy validation: 0.883800\n",
      "Epoch 47 - loss train: 0.376921 loss validation: 0.427427 accuracy train: 0.884000 accuracy validation: 0.883300\n",
      "Epoch 48 - loss train: 0.391064 loss validation: 0.441605 accuracy train: 0.877160 accuracy validation: 0.873000\n",
      "Epoch 49 - loss train: 0.377960 loss validation: 0.425099 accuracy train: 0.882400 accuracy validation: 0.884600\n",
      "Epoch 50 - loss train: 0.381327 loss validation: 0.429186 accuracy train: 0.882540 accuracy validation: 0.879600\n",
      "Epoch 51 - loss train: 0.381051 loss validation: 0.434450 accuracy train: 0.880340 accuracy validation: 0.876200\n",
      "Epoch 52 - loss train: 0.373958 loss validation: 0.428122 accuracy train: 0.884580 accuracy validation: 0.880400\n",
      "Epoch 53 - loss train: 0.384573 loss validation: 0.435154 accuracy train: 0.880860 accuracy validation: 0.880300\n",
      "Epoch 54 - loss train: 0.361061 loss validation: 0.416732 accuracy train: 0.888360 accuracy validation: 0.884700\n",
      "Epoch 55 - loss train: 0.355384 loss validation: 0.409560 accuracy train: 0.890480 accuracy validation: 0.887800\n",
      "Epoch 56 - loss train: 0.355900 loss validation: 0.411713 accuracy train: 0.889040 accuracy validation: 0.888200\n",
      "Epoch 57 - loss train: 0.357250 loss validation: 0.410543 accuracy train: 0.888320 accuracy validation: 0.886000\n",
      "Epoch 58 - loss train: 0.357701 loss validation: 0.407175 accuracy train: 0.889100 accuracy validation: 0.887900\n",
      "Epoch 59 - loss train: 0.353185 loss validation: 0.403699 accuracy train: 0.890720 accuracy validation: 0.889900\n",
      "Epoch 60 - loss train: 0.348038 loss validation: 0.400795 accuracy train: 0.892720 accuracy validation: 0.890300\n",
      "Epoch 61 - loss train: 0.340242 loss validation: 0.388708 accuracy train: 0.894900 accuracy validation: 0.895300\n",
      "Epoch 62 - loss train: 0.337992 loss validation: 0.389815 accuracy train: 0.895380 accuracy validation: 0.892300\n",
      "Epoch 63 - loss train: 0.334366 loss validation: 0.389208 accuracy train: 0.896180 accuracy validation: 0.894300\n",
      "Epoch 64 - loss train: 0.341302 loss validation: 0.397952 accuracy train: 0.892640 accuracy validation: 0.887200\n",
      "Epoch 65 - loss train: 0.338951 loss validation: 0.390833 accuracy train: 0.895500 accuracy validation: 0.893300\n",
      "Epoch 66 - loss train: 0.346774 loss validation: 0.396880 accuracy train: 0.890700 accuracy validation: 0.891900\n",
      "Epoch 67 - loss train: 0.329239 loss validation: 0.381921 accuracy train: 0.896560 accuracy validation: 0.895800\n",
      "Epoch 68 - loss train: 0.326135 loss validation: 0.380600 accuracy train: 0.898180 accuracy validation: 0.895500\n",
      "Epoch 69 - loss train: 0.335335 loss validation: 0.392735 accuracy train: 0.896260 accuracy validation: 0.892400\n",
      "Epoch 70 - loss train: 0.326057 loss validation: 0.379747 accuracy train: 0.899380 accuracy validation: 0.896700\n",
      "Epoch 71 - loss train: 0.326103 loss validation: 0.379164 accuracy train: 0.898260 accuracy validation: 0.897500\n",
      "Epoch 72 - loss train: 0.320349 loss validation: 0.373607 accuracy train: 0.900280 accuracy validation: 0.897300\n"
     ]
    },
    {
     "name": "stdout",
     "output_type": "stream",
     "text": [
      "Epoch 73 - loss train: 0.316693 loss validation: 0.371078 accuracy train: 0.901260 accuracy validation: 0.897600\n",
      "Epoch 74 - loss train: 0.319793 loss validation: 0.373465 accuracy train: 0.899760 accuracy validation: 0.898000\n",
      "Epoch 75 - loss train: 0.322553 loss validation: 0.375537 accuracy train: 0.900320 accuracy validation: 0.899100\n",
      "Epoch 76 - loss train: 0.315378 loss validation: 0.368384 accuracy train: 0.902060 accuracy validation: 0.899600\n",
      "Epoch 77 - loss train: 0.314543 loss validation: 0.371228 accuracy train: 0.901820 accuracy validation: 0.900500\n",
      "Epoch 78 - loss train: 0.315825 loss validation: 0.371150 accuracy train: 0.902000 accuracy validation: 0.899800\n",
      "Epoch 79 - loss train: 0.315085 loss validation: 0.369091 accuracy train: 0.903260 accuracy validation: 0.901100\n",
      "Epoch 80 - loss train: 0.308022 loss validation: 0.365525 accuracy train: 0.904500 accuracy validation: 0.900200\n",
      "Epoch 81 - loss train: 0.313175 loss validation: 0.371393 accuracy train: 0.902340 accuracy validation: 0.897800\n",
      "Epoch 82 - loss train: 0.312938 loss validation: 0.371578 accuracy train: 0.902700 accuracy validation: 0.901000\n",
      "Epoch 83 - loss train: 0.317426 loss validation: 0.372437 accuracy train: 0.899360 accuracy validation: 0.895700\n",
      "Epoch 84 - loss train: 0.315166 loss validation: 0.369575 accuracy train: 0.901680 accuracy validation: 0.900800\n",
      "Epoch 85 - loss train: 0.318187 loss validation: 0.376615 accuracy train: 0.897820 accuracy validation: 0.894800\n",
      "Epoch 86 - loss train: 0.309721 loss validation: 0.370309 accuracy train: 0.902880 accuracy validation: 0.895900\n",
      "Epoch 87 - loss train: 0.300974 loss validation: 0.357361 accuracy train: 0.907260 accuracy validation: 0.905000\n",
      "Epoch 88 - loss train: 0.301473 loss validation: 0.359197 accuracy train: 0.907040 accuracy validation: 0.905500\n",
      "Epoch 89 - loss train: 0.301186 loss validation: 0.357377 accuracy train: 0.906820 accuracy validation: 0.902600\n",
      "Epoch 90 - loss train: 0.297050 loss validation: 0.360138 accuracy train: 0.907280 accuracy validation: 0.904400\n",
      "Epoch 91 - loss train: 0.295089 loss validation: 0.355571 accuracy train: 0.907100 accuracy validation: 0.902400\n",
      "Epoch 92 - loss train: 0.296289 loss validation: 0.353902 accuracy train: 0.906640 accuracy validation: 0.905400\n",
      "Epoch 93 - loss train: 0.304742 loss validation: 0.365400 accuracy train: 0.903680 accuracy validation: 0.901100\n",
      "Epoch 94 - loss train: 0.293162 loss validation: 0.353681 accuracy train: 0.907900 accuracy validation: 0.902200\n",
      "Epoch 95 - loss train: 0.290132 loss validation: 0.347099 accuracy train: 0.909540 accuracy validation: 0.908300\n",
      "Epoch 96 - loss train: 0.286416 loss validation: 0.344849 accuracy train: 0.909220 accuracy validation: 0.905300\n",
      "Epoch 97 - loss train: 0.298231 loss validation: 0.356062 accuracy train: 0.907120 accuracy validation: 0.904100\n",
      "Epoch 98 - loss train: 0.288055 loss validation: 0.345209 accuracy train: 0.909040 accuracy validation: 0.906400\n",
      "Epoch 99 - loss train: 0.289933 loss validation: 0.349069 accuracy train: 0.910020 accuracy validation: 0.906200\n"
     ]
    }
   ],
   "source": [
    "relu_train_stats2 = trainer(relu_net2, X_train, y_train, X_valid, y_valid, relu_conf2)"
   ]
  },
  {
   "cell_type": "code",
   "execution_count": 173,
   "metadata": {},
   "outputs": [
    {
     "name": "stdout",
     "output_type": "stream",
     "text": [
      "test accuracy for ReLU activation (conf 2):  0.9047\n"
     ]
    }
   ],
   "source": [
    "print(\"test accuracy for ReLU activation (conf 2): \", test(relu_net2, X_test, y_test, relu_conf2))"
   ]
  },
  {
   "cell_type": "code",
   "execution_count": 174,
   "metadata": {},
   "outputs": [
    {
     "data": {
      "image/png": "[encoded data removed]",
      "text/plain": [
       "<Figure size 432x288 with 1 Axes>"
      ]
     },
     "metadata": {
      "needs_background": "light"
     },
     "output_type": "display_data"
    }
   ],
   "source": [
    "visualize(relu_train_stats2['train_losses'], relu_train_stats2['valid_losses'], \"ReLU Activation with hyper-param tuned\")"
   ]
  },
  {
   "cell_type": "code",
   "execution_count": 175,
   "metadata": {},
   "outputs": [
    {
     "data": {
      "image/png": "[encoded data removed]",
      "text/plain": [
       "<Figure size 432x288 with 1 Axes>"
      ]
     },
     "metadata": {
      "needs_background": "light"
     },
     "output_type": "display_data"
    }
   ],
   "source": [
    "visualize(relu_train_stats2['train_accuracies'], relu_train_stats2['valid_accuracies'], \"ReLU Activation with hyper-param tuned\", False)"
   ]
  },
  {
   "cell_type": "markdown",
   "metadata": {},
   "source": [
    "### f) Experiments with network topology"
   ]
  },
  {
   "cell_type": "markdown",
   "metadata": {},
   "source": [
    "#### i. Half and double hidden units"
   ]
  },
  {
   "cell_type": "code",
   "execution_count": 112,
   "metadata": {},
   "outputs": [],
   "source": [
    "half_conf = default_config()\n",
    "half_conf['layer_specs'] = [784, 25, 10]\n",
    "half_net = Neuralnetwork(half_conf)"
   ]
  },
  {
   "cell_type": "code",
   "execution_count": 113,
   "metadata": {},
   "outputs": [
    {
     "name": "stdout",
     "output_type": "stream",
     "text": [
      "------- Model Config: \n",
      "Activation: tanh \n",
      "N Epoches: 100 \n",
      "N Batches: 195 \n",
      "Batch size: 256 \n",
      "Learning rate: 0.05 \n",
      "L2 lambda: 0 \n",
      "Momentum? True\n",
      "Gamma: 0.9\n"
     ]
    },
    {
     "data": {
      "application/vnd.jupyter.widget-view+json": {
       "model_id": "262fc44038f34ab2aeb828b568fad387",
       "version_major": 2,
       "version_minor": 0
      },
      "text/plain": [
       "HBox(children=(IntProgress(value=0), HTML(value='')))"
      ]
     },
     "metadata": {},
     "output_type": "display_data"
    },
    {
     "name": "stdout",
     "output_type": "stream",
     "text": [
      "Epoch 0 - loss train: 1.149170 loss validation: 1.138896 accuracy train: 0.614120 accuracy validation: 0.616700\n",
      "Epoch 1 - loss train: 0.929077 loss validation: 0.932047 accuracy train: 0.701320 accuracy validation: 0.701300\n",
      "Epoch 2 - loss train: 0.796819 loss validation: 0.792749 accuracy train: 0.746600 accuracy validation: 0.748100\n",
      "Epoch 3 - loss train: 0.714552 loss validation: 0.717745 accuracy train: 0.775580 accuracy validation: 0.776900\n",
      "Epoch 4 - loss train: 0.651793 loss validation: 0.664137 accuracy train: 0.797400 accuracy validation: 0.796300\n",
      "Epoch 5 - loss train: 0.615957 loss validation: 0.632418 accuracy train: 0.806520 accuracy validation: 0.801000\n",
      "Epoch 6 - loss train: 0.582491 loss validation: 0.596741 accuracy train: 0.822700 accuracy validation: 0.819400\n",
      "Epoch 7 - loss train: 0.555441 loss validation: 0.578129 accuracy train: 0.832580 accuracy validation: 0.826800\n",
      "Epoch 8 - loss train: 0.529727 loss validation: 0.556073 accuracy train: 0.843040 accuracy validation: 0.835800\n",
      "Epoch 9 - loss train: 0.512641 loss validation: 0.533581 accuracy train: 0.847680 accuracy validation: 0.842700\n",
      "Epoch 10 - loss train: 0.494766 loss validation: 0.513096 accuracy train: 0.855280 accuracy validation: 0.849000\n",
      "Epoch 11 - loss train: 0.486067 loss validation: 0.508027 accuracy train: 0.857740 accuracy validation: 0.853200\n",
      "Epoch 12 - loss train: 0.472765 loss validation: 0.499022 accuracy train: 0.860180 accuracy validation: 0.853000\n",
      "Epoch 13 - loss train: 0.463212 loss validation: 0.487483 accuracy train: 0.864360 accuracy validation: 0.856500\n",
      "Epoch 14 - loss train: 0.443772 loss validation: 0.481174 accuracy train: 0.870440 accuracy validation: 0.860800\n",
      "Epoch 15 - loss train: 0.448494 loss validation: 0.475936 accuracy train: 0.867940 accuracy validation: 0.858700\n",
      "Epoch 16 - loss train: 0.439464 loss validation: 0.461983 accuracy train: 0.869560 accuracy validation: 0.864600\n",
      "Epoch 17 - loss train: 0.434583 loss validation: 0.471173 accuracy train: 0.871200 accuracy validation: 0.863100\n",
      "Epoch 18 - loss train: 0.417709 loss validation: 0.456284 accuracy train: 0.879240 accuracy validation: 0.870200\n",
      "Epoch 19 - loss train: 0.410024 loss validation: 0.445406 accuracy train: 0.880920 accuracy validation: 0.871500\n",
      "Epoch 20 - loss train: 0.415980 loss validation: 0.451789 accuracy train: 0.881340 accuracy validation: 0.868800\n",
      "Epoch 21 - loss train: 0.394079 loss validation: 0.437657 accuracy train: 0.885220 accuracy validation: 0.872300\n",
      "Epoch 22 - loss train: 0.407443 loss validation: 0.437733 accuracy train: 0.880440 accuracy validation: 0.873700\n",
      "Epoch 23 - loss train: 0.400341 loss validation: 0.441999 accuracy train: 0.883620 accuracy validation: 0.875200\n",
      "Epoch 24 - loss train: 0.398878 loss validation: 0.432578 accuracy train: 0.884340 accuracy validation: 0.877100\n",
      "Epoch 25 - loss train: 0.384183 loss validation: 0.430355 accuracy train: 0.888680 accuracy validation: 0.874500\n",
      "Epoch 26 - loss train: 0.380782 loss validation: 0.425624 accuracy train: 0.889260 accuracy validation: 0.878900\n",
      "Epoch 27 - loss train: 0.379164 loss validation: 0.420776 accuracy train: 0.891040 accuracy validation: 0.879700\n",
      "Epoch 28 - loss train: 0.377518 loss validation: 0.420599 accuracy train: 0.890020 accuracy validation: 0.880000\n",
      "Epoch 29 - loss train: 0.362771 loss validation: 0.416765 accuracy train: 0.893780 accuracy validation: 0.879600\n",
      "Epoch 30 - loss train: 0.370383 loss validation: 0.416616 accuracy train: 0.890960 accuracy validation: 0.880100\n",
      "Epoch 31 - loss train: 0.364255 loss validation: 0.410201 accuracy train: 0.893860 accuracy validation: 0.882100\n",
      "Epoch 32 - loss train: 0.371557 loss validation: 0.412383 accuracy train: 0.891360 accuracy validation: 0.882900\n",
      "Epoch 33 - loss train: 0.353916 loss validation: 0.409286 accuracy train: 0.897920 accuracy validation: 0.885200\n",
      "Epoch 34 - loss train: 0.359677 loss validation: 0.416763 accuracy train: 0.893940 accuracy validation: 0.877900\n",
      "Epoch 35 - loss train: 0.360031 loss validation: 0.416433 accuracy train: 0.894140 accuracy validation: 0.880800\n",
      "Epoch 36 - loss train: 0.354271 loss validation: 0.406970 accuracy train: 0.894740 accuracy validation: 0.882000\n",
      "Epoch 37 - loss train: 0.344670 loss validation: 0.401366 accuracy train: 0.899040 accuracy validation: 0.886100\n",
      "Epoch 38 - loss train: 0.348199 loss validation: 0.403392 accuracy train: 0.898220 accuracy validation: 0.885900\n",
      "Epoch 39 - loss train: 0.344375 loss validation: 0.403921 accuracy train: 0.899980 accuracy validation: 0.885600\n",
      "Epoch 40 - loss train: 0.348049 loss validation: 0.405841 accuracy train: 0.898940 accuracy validation: 0.884300\n",
      "Epoch 41 - loss train: 0.352759 loss validation: 0.399607 accuracy train: 0.895260 accuracy validation: 0.885200\n",
      "Epoch 42 - loss train: 0.344375 loss validation: 0.402129 accuracy train: 0.897640 accuracy validation: 0.884400\n",
      "Epoch 43 - loss train: 0.338006 loss validation: 0.401350 accuracy train: 0.900580 accuracy validation: 0.884700\n",
      "Epoch 44 - loss train: 0.328880 loss validation: 0.395089 accuracy train: 0.903740 accuracy validation: 0.886600\n",
      "Epoch 45 - loss train: 0.327389 loss validation: 0.393209 accuracy train: 0.904220 accuracy validation: 0.889800\n",
      "Epoch 46 - loss train: 0.328225 loss validation: 0.393047 accuracy train: 0.903460 accuracy validation: 0.887000\n",
      "Epoch 47 - loss train: 0.324535 loss validation: 0.393557 accuracy train: 0.905740 accuracy validation: 0.890000\n",
      "Epoch 48 - loss train: 0.327414 loss validation: 0.393734 accuracy train: 0.903960 accuracy validation: 0.886700\n",
      "Epoch 49 - loss train: 0.332090 loss validation: 0.396269 accuracy train: 0.902840 accuracy validation: 0.887400\n",
      "Epoch 50 - loss train: 0.320802 loss validation: 0.391724 accuracy train: 0.905880 accuracy validation: 0.886200\n",
      "Epoch 51 - loss train: 0.325234 loss validation: 0.394702 accuracy train: 0.905140 accuracy validation: 0.889000\n",
      "Epoch 52 - loss train: 0.320528 loss validation: 0.392891 accuracy train: 0.905440 accuracy validation: 0.888600\n",
      "Epoch 53 - loss train: 0.329829 loss validation: 0.389724 accuracy train: 0.901680 accuracy validation: 0.886200\n",
      "Epoch 54 - loss train: 0.326424 loss validation: 0.391397 accuracy train: 0.903900 accuracy validation: 0.886500\n",
      "Epoch 55 - loss train: 0.322475 loss validation: 0.397146 accuracy train: 0.905600 accuracy validation: 0.887400\n",
      "Epoch 56 - loss train: 0.309613 loss validation: 0.385498 accuracy train: 0.909100 accuracy validation: 0.890500\n",
      "Epoch 57 - loss train: 0.317018 loss validation: 0.391065 accuracy train: 0.907420 accuracy validation: 0.886700\n",
      "Epoch 58 - loss train: 0.323135 loss validation: 0.386032 accuracy train: 0.903960 accuracy validation: 0.888800\n",
      "Epoch 59 - loss train: 0.314030 loss validation: 0.390410 accuracy train: 0.907340 accuracy validation: 0.887200\n",
      "Epoch 60 - loss train: 0.312783 loss validation: 0.385958 accuracy train: 0.909600 accuracy validation: 0.889200\n",
      "Epoch 61 - loss train: 0.304879 loss validation: 0.384137 accuracy train: 0.910820 accuracy validation: 0.889600\n",
      "Epoch 62 - loss train: 0.304180 loss validation: 0.383597 accuracy train: 0.910080 accuracy validation: 0.886800\n",
      "Epoch 63 - loss train: 0.307181 loss validation: 0.385201 accuracy train: 0.909880 accuracy validation: 0.888700\n",
      "Epoch 64 - loss train: 0.303748 loss validation: 0.383682 accuracy train: 0.911460 accuracy validation: 0.890000\n",
      "Epoch 65 - loss train: 0.302541 loss validation: 0.386204 accuracy train: 0.910600 accuracy validation: 0.888600\n",
      "Epoch 66 - loss train: 0.303204 loss validation: 0.383074 accuracy train: 0.910540 accuracy validation: 0.890600\n",
      "Epoch 67 - loss train: 0.303462 loss validation: 0.381198 accuracy train: 0.910680 accuracy validation: 0.889700\n",
      "Epoch 68 - loss train: 0.310930 loss validation: 0.386263 accuracy train: 0.908140 accuracy validation: 0.891400\n",
      "Epoch 69 - loss train: 0.298069 loss validation: 0.382415 accuracy train: 0.912040 accuracy validation: 0.890000\n",
      "Epoch 70 - loss train: 0.300336 loss validation: 0.378323 accuracy train: 0.911840 accuracy validation: 0.892800\n",
      "Epoch 71 - loss train: 0.294775 loss validation: 0.380136 accuracy train: 0.913660 accuracy validation: 0.892400\n",
      "Epoch 72 - loss train: 0.297584 loss validation: 0.381896 accuracy train: 0.911980 accuracy validation: 0.888900\n"
     ]
    },
    {
     "name": "stdout",
     "output_type": "stream",
     "text": [
      "Epoch 73 - loss train: 0.304122 loss validation: 0.377153 accuracy train: 0.910200 accuracy validation: 0.890700\n",
      "Epoch 74 - loss train: 0.295396 loss validation: 0.381024 accuracy train: 0.913640 accuracy validation: 0.891500\n",
      "Epoch 75 - loss train: 0.294541 loss validation: 0.381924 accuracy train: 0.913200 accuracy validation: 0.891500\n",
      "Epoch 76 - loss train: 0.288071 loss validation: 0.378345 accuracy train: 0.915600 accuracy validation: 0.892200\n",
      "Epoch 77 - loss train: 0.289380 loss validation: 0.380079 accuracy train: 0.914680 accuracy validation: 0.891000\n",
      "Epoch 78 - loss train: 0.289038 loss validation: 0.377361 accuracy train: 0.913820 accuracy validation: 0.890300\n",
      "Epoch 79 - loss train: 0.285508 loss validation: 0.375617 accuracy train: 0.916480 accuracy validation: 0.891100\n",
      "Epoch 80 - loss train: 0.282103 loss validation: 0.376448 accuracy train: 0.918260 accuracy validation: 0.892500\n",
      "Epoch 81 - loss train: 0.286364 loss validation: 0.379037 accuracy train: 0.916420 accuracy validation: 0.890000\n",
      "Epoch 82 - loss train: 0.288361 loss validation: 0.379602 accuracy train: 0.914760 accuracy validation: 0.891300\n",
      "Epoch 83 - loss train: 0.285438 loss validation: 0.378673 accuracy train: 0.914660 accuracy validation: 0.891000\n",
      "Epoch 84 - loss train: 0.283537 loss validation: 0.376870 accuracy train: 0.915940 accuracy validation: 0.891300\n",
      "Epoch 85 - loss train: 0.278566 loss validation: 0.374934 accuracy train: 0.918080 accuracy validation: 0.891900\n",
      "Epoch 86 - loss train: 0.282948 loss validation: 0.378514 accuracy train: 0.915940 accuracy validation: 0.892400\n",
      "Epoch 87 - loss train: 0.282469 loss validation: 0.375032 accuracy train: 0.916540 accuracy validation: 0.892300\n",
      "Epoch 88 - loss train: 0.278560 loss validation: 0.375499 accuracy train: 0.918540 accuracy validation: 0.892200\n",
      "Epoch 89 - loss train: 0.277988 loss validation: 0.374872 accuracy train: 0.918620 accuracy validation: 0.893100\n",
      "Epoch 90 - loss train: 0.279285 loss validation: 0.371570 accuracy train: 0.917380 accuracy validation: 0.892700\n",
      "Epoch 91 - loss train: 0.278415 loss validation: 0.376832 accuracy train: 0.918920 accuracy validation: 0.892800\n",
      "Epoch 92 - loss train: 0.287024 loss validation: 0.379463 accuracy train: 0.916160 accuracy validation: 0.892500\n",
      "Epoch 93 - loss train: 0.276071 loss validation: 0.375549 accuracy train: 0.919060 accuracy validation: 0.892300\n",
      "Epoch 94 - loss train: 0.279146 loss validation: 0.371341 accuracy train: 0.917720 accuracy validation: 0.892600\n",
      "Epoch 95 - loss train: 0.287301 loss validation: 0.375115 accuracy train: 0.914700 accuracy validation: 0.892100\n",
      "Epoch 96 - loss train: 0.271416 loss validation: 0.371640 accuracy train: 0.920940 accuracy validation: 0.894700\n",
      "Epoch 97 - loss train: 0.272565 loss validation: 0.368932 accuracy train: 0.919640 accuracy validation: 0.892700\n",
      "Epoch 98 - loss train: 0.277614 loss validation: 0.376646 accuracy train: 0.918800 accuracy validation: 0.891800\n",
      "Epoch 99 - loss train: 0.273855 loss validation: 0.376005 accuracy train: 0.920220 accuracy validation: 0.894900\n"
     ]
    }
   ],
   "source": [
    "half_train_stats = trainer(half_net, X_train, y_train, X_valid, y_valid, half_conf)"
   ]
  },
  {
   "cell_type": "code",
   "execution_count": 124,
   "metadata": {},
   "outputs": [
    {
     "name": "stdout",
     "output_type": "stream",
     "text": [
      "test accuracy for half hidden units:  0.9034\n"
     ]
    }
   ],
   "source": [
    "print(\"test accuracy for half hidden units: \", test(half_net, X_test, y_test, half_conf))"
   ]
  },
  {
   "cell_type": "code",
   "execution_count": 144,
   "metadata": {},
   "outputs": [
    {
     "data": {
      "image/png": "[encoded data removed]",
      "text/plain": [
       "<Figure size 432x288 with 1 Axes>"
      ]
     },
     "metadata": {
      "needs_background": "light"
     },
     "output_type": "display_data"
    }
   ],
   "source": [
    "visualize(half_train_stats['train_losses'], half_train_stats['valid_losses'], \"Half Units\")"
   ]
  },
  {
   "cell_type": "code",
   "execution_count": 145,
   "metadata": {},
   "outputs": [
    {
     "data": {
      "image/png": "[encoded data removed]",
      "text/plain": [
       "<Figure size 432x288 with 1 Axes>"
      ]
     },
     "metadata": {
      "needs_background": "light"
     },
     "output_type": "display_data"
    }
   ],
   "source": [
    "visualize(half_train_stats['train_accuracies'], half_train_stats['valid_accuracies'], \"Half Units\", False)"
   ]
  },
  {
   "cell_type": "code",
   "execution_count": 161,
   "metadata": {},
   "outputs": [],
   "source": [
    "double_conf = default_config()\n",
    "double_conf['layer_specs'] = [784, 200, 10]\n",
    "double_net = Neuralnetwork(double_conf)"
   ]
  },
  {
   "cell_type": "code",
   "execution_count": 162,
   "metadata": {},
   "outputs": [
    {
     "name": "stdout",
     "output_type": "stream",
     "text": [
      "------- Model Config: \n",
      "Activation: tanh \n",
      "N Epoches: 100 \n",
      "N Batches: 195 \n",
      "Batch size: 256 \n",
      "Learning rate: 0.05 \n",
      "L2 lambda: 0 \n",
      "Momentum? True\n",
      "Gamma: 0.9\n"
     ]
    },
    {
     "data": {
      "application/vnd.jupyter.widget-view+json": {
       "model_id": "003e14595d724f949a22729daf5067b5",
       "version_major": 2,
       "version_minor": 0
      },
      "text/plain": [
       "HBox(children=(IntProgress(value=0), HTML(value='')))"
      ]
     },
     "metadata": {},
     "output_type": "display_data"
    },
    {
     "name": "stdout",
     "output_type": "stream",
     "text": [
      "Epoch 0 - loss train: 0.890110 loss validation: 0.960672 accuracy train: 0.787040 accuracy validation: 0.778100\n",
      "Epoch 1 - loss train: 0.630314 loss validation: 0.708937 accuracy train: 0.826340 accuracy validation: 0.816000\n",
      "Epoch 2 - loss train: 0.512291 loss validation: 0.600088 accuracy train: 0.855040 accuracy validation: 0.840000\n",
      "Epoch 3 - loss train: 0.446748 loss validation: 0.528215 accuracy train: 0.869140 accuracy validation: 0.854100\n",
      "Epoch 4 - loss train: 0.418629 loss validation: 0.507537 accuracy train: 0.874420 accuracy validation: 0.860200\n",
      "Epoch 5 - loss train: 0.370611 loss validation: 0.463517 accuracy train: 0.888260 accuracy validation: 0.873700\n",
      "Epoch 6 - loss train: 0.352325 loss validation: 0.452493 accuracy train: 0.892780 accuracy validation: 0.874100\n",
      "Epoch 7 - loss train: 0.343183 loss validation: 0.435962 accuracy train: 0.895280 accuracy validation: 0.878200\n",
      "Epoch 8 - loss train: 0.314253 loss validation: 0.409776 accuracy train: 0.903640 accuracy validation: 0.886100\n",
      "Epoch 9 - loss train: 0.304967 loss validation: 0.408289 accuracy train: 0.905340 accuracy validation: 0.883600\n",
      "Epoch 10 - loss train: 0.286457 loss validation: 0.393413 accuracy train: 0.911020 accuracy validation: 0.890200\n",
      "Epoch 11 - loss train: 0.263472 loss validation: 0.380489 accuracy train: 0.920040 accuracy validation: 0.894100\n",
      "Epoch 12 - loss train: 0.256776 loss validation: 0.375885 accuracy train: 0.922820 accuracy validation: 0.895000\n",
      "Epoch 13 - loss train: 0.247461 loss validation: 0.367587 accuracy train: 0.926200 accuracy validation: 0.898000\n",
      "Epoch 14 - loss train: 0.260222 loss validation: 0.384892 accuracy train: 0.919560 accuracy validation: 0.893300\n",
      "Epoch 15 - loss train: 0.239494 loss validation: 0.361793 accuracy train: 0.927140 accuracy validation: 0.897700\n",
      "Epoch 16 - loss train: 0.225929 loss validation: 0.358545 accuracy train: 0.930820 accuracy validation: 0.901200\n",
      "Epoch 17 - loss train: 0.219711 loss validation: 0.354779 accuracy train: 0.932540 accuracy validation: 0.901800\n",
      "Epoch 18 - loss train: 0.217366 loss validation: 0.349706 accuracy train: 0.934060 accuracy validation: 0.904100\n",
      "Epoch 19 - loss train: 0.209062 loss validation: 0.343379 accuracy train: 0.936820 accuracy validation: 0.903900\n",
      "Epoch 20 - loss train: 0.212462 loss validation: 0.359083 accuracy train: 0.934400 accuracy validation: 0.901100\n",
      "Epoch 21 - loss train: 0.204468 loss validation: 0.348691 accuracy train: 0.937440 accuracy validation: 0.904300\n",
      "Epoch 22 - loss train: 0.194157 loss validation: 0.344840 accuracy train: 0.941260 accuracy validation: 0.905600\n",
      "Epoch 23 - loss train: 0.203331 loss validation: 0.352927 accuracy train: 0.936620 accuracy validation: 0.902100\n",
      "Epoch 24 - loss train: 0.187866 loss validation: 0.344003 accuracy train: 0.942940 accuracy validation: 0.906900\n",
      "Epoch 25 - loss train: 0.177650 loss validation: 0.335825 accuracy train: 0.946440 accuracy validation: 0.910400\n",
      "Epoch 26 - loss train: 0.173251 loss validation: 0.328079 accuracy train: 0.948600 accuracy validation: 0.911000\n",
      "Epoch 27 - loss train: 0.176766 loss validation: 0.330794 accuracy train: 0.946120 accuracy validation: 0.909300\n",
      "Epoch 28 - loss train: 0.183171 loss validation: 0.337459 accuracy train: 0.943800 accuracy validation: 0.909400\n",
      "Epoch 29 - loss train: 0.168571 loss validation: 0.330310 accuracy train: 0.949640 accuracy validation: 0.911100\n",
      "Epoch 30 - loss train: 0.167940 loss validation: 0.336288 accuracy train: 0.948340 accuracy validation: 0.909200\n",
      "Epoch 31 - loss train: 0.160189 loss validation: 0.328472 accuracy train: 0.952040 accuracy validation: 0.911400\n",
      "Epoch 32 - loss train: 0.158544 loss validation: 0.331663 accuracy train: 0.951980 accuracy validation: 0.910000\n",
      "Epoch 33 - loss train: 0.159027 loss validation: 0.327796 accuracy train: 0.952400 accuracy validation: 0.911400\n",
      "Epoch 34 - loss train: 0.153085 loss validation: 0.329401 accuracy train: 0.953660 accuracy validation: 0.912200\n",
      "Epoch 35 - loss train: 0.154706 loss validation: 0.322067 accuracy train: 0.953500 accuracy validation: 0.917900\n",
      "Epoch 36 - loss train: 0.150209 loss validation: 0.329445 accuracy train: 0.954740 accuracy validation: 0.912700\n",
      "Epoch 37 - loss train: 0.146096 loss validation: 0.321070 accuracy train: 0.956780 accuracy validation: 0.915200\n",
      "Epoch 38 - loss train: 0.142382 loss validation: 0.325766 accuracy train: 0.957800 accuracy validation: 0.912800\n",
      "Epoch 39 - loss train: 0.142013 loss validation: 0.323344 accuracy train: 0.957740 accuracy validation: 0.912000\n",
      "Epoch 40 - loss train: 0.137961 loss validation: 0.321498 accuracy train: 0.959120 accuracy validation: 0.915900\n",
      "Epoch 41 - loss train: 0.136094 loss validation: 0.318789 accuracy train: 0.959520 accuracy validation: 0.916500\n",
      "Epoch 42 - loss train: 0.132904 loss validation: 0.324196 accuracy train: 0.961080 accuracy validation: 0.914100\n",
      "Epoch 43 - loss train: 0.129361 loss validation: 0.318857 accuracy train: 0.962660 accuracy validation: 0.914100\n",
      "Epoch 44 - loss train: 0.137237 loss validation: 0.328186 accuracy train: 0.958500 accuracy validation: 0.916200\n",
      "Epoch 45 - loss train: 0.130249 loss validation: 0.325467 accuracy train: 0.961260 accuracy validation: 0.916400\n",
      "Epoch 46 - loss train: 0.122885 loss validation: 0.319525 accuracy train: 0.965100 accuracy validation: 0.916900\n",
      "Epoch 47 - loss train: 0.126043 loss validation: 0.325582 accuracy train: 0.963140 accuracy validation: 0.916900\n",
      "Epoch 48 - loss train: 0.120600 loss validation: 0.322553 accuracy train: 0.965200 accuracy validation: 0.917900\n",
      "Epoch 49 - loss train: 0.124145 loss validation: 0.328449 accuracy train: 0.963560 accuracy validation: 0.917100\n",
      "Epoch 50 - loss train: 0.119095 loss validation: 0.320868 accuracy train: 0.965740 accuracy validation: 0.918500\n",
      "Epoch 51 - loss train: 0.118337 loss validation: 0.321155 accuracy train: 0.965560 accuracy validation: 0.916700\n",
      "Epoch 52 - loss train: 0.119606 loss validation: 0.327980 accuracy train: 0.964560 accuracy validation: 0.918200\n",
      "Epoch 53 - loss train: 0.118123 loss validation: 0.330452 accuracy train: 0.965280 accuracy validation: 0.916500\n",
      "Epoch 54 - loss train: 0.113465 loss validation: 0.326143 accuracy train: 0.967840 accuracy validation: 0.917800\n",
      "Epoch 55 - loss train: 0.110885 loss validation: 0.321742 accuracy train: 0.967900 accuracy validation: 0.920000\n",
      "Epoch 56 - loss train: 0.109582 loss validation: 0.323260 accuracy train: 0.969320 accuracy validation: 0.918500\n",
      "Epoch 57 - loss train: 0.116042 loss validation: 0.329596 accuracy train: 0.965900 accuracy validation: 0.916400\n",
      "Epoch 58 - loss train: 0.107356 loss validation: 0.325407 accuracy train: 0.969580 accuracy validation: 0.918900\n",
      "Epoch 59 - loss train: 0.106871 loss validation: 0.325406 accuracy train: 0.969800 accuracy validation: 0.918500\n",
      "Epoch 60 - loss train: 0.104023 loss validation: 0.325012 accuracy train: 0.970700 accuracy validation: 0.920300\n",
      "Epoch 61 - loss train: 0.117129 loss validation: 0.339417 accuracy train: 0.964980 accuracy validation: 0.915700\n",
      "Epoch 62 - loss train: 0.107774 loss validation: 0.329809 accuracy train: 0.968560 accuracy validation: 0.917800\n",
      "Epoch 63 - loss train: 0.103104 loss validation: 0.329645 accuracy train: 0.970700 accuracy validation: 0.921100\n",
      "Epoch 64 - loss train: 0.105470 loss validation: 0.330088 accuracy train: 0.969980 accuracy validation: 0.918200\n",
      "Epoch 65 - loss train: 0.097645 loss validation: 0.324435 accuracy train: 0.972660 accuracy validation: 0.920200\n",
      "Epoch 66 - loss train: 0.102265 loss validation: 0.325634 accuracy train: 0.971020 accuracy validation: 0.919800\n",
      "Epoch 67 - loss train: 0.097105 loss validation: 0.328034 accuracy train: 0.972860 accuracy validation: 0.919300\n",
      "Epoch 68 - loss train: 0.103073 loss validation: 0.328012 accuracy train: 0.970260 accuracy validation: 0.918700\n",
      "Epoch 69 - loss train: 0.100091 loss validation: 0.330906 accuracy train: 0.971260 accuracy validation: 0.918100\n",
      "Epoch 70 - loss train: 0.098508 loss validation: 0.332635 accuracy train: 0.972220 accuracy validation: 0.919500\n",
      "Epoch 71 - loss train: 0.092766 loss validation: 0.329582 accuracy train: 0.974640 accuracy validation: 0.920000\n",
      "Epoch 72 - loss train: 0.095619 loss validation: 0.334315 accuracy train: 0.973040 accuracy validation: 0.918300\n"
     ]
    },
    {
     "name": "stdout",
     "output_type": "stream",
     "text": [
      "Epoch 73 - loss train: 0.094186 loss validation: 0.328729 accuracy train: 0.973400 accuracy validation: 0.919300\n",
      "Epoch 74 - loss train: 0.093562 loss validation: 0.333519 accuracy train: 0.974000 accuracy validation: 0.918100\n",
      "Epoch 75 - loss train: 0.090599 loss validation: 0.331813 accuracy train: 0.975000 accuracy validation: 0.918900\n",
      "Epoch 76 - loss train: 0.092394 loss validation: 0.331685 accuracy train: 0.974060 accuracy validation: 0.920000\n",
      "Epoch 77 - loss train: 0.089136 loss validation: 0.329113 accuracy train: 0.975780 accuracy validation: 0.918900\n",
      "Epoch 78 - loss train: 0.088225 loss validation: 0.330773 accuracy train: 0.975520 accuracy validation: 0.919600\n",
      "Epoch 79 - loss train: 0.086363 loss validation: 0.331809 accuracy train: 0.976540 accuracy validation: 0.920600\n",
      "Epoch 80 - loss train: 0.087864 loss validation: 0.333592 accuracy train: 0.975680 accuracy validation: 0.919700\n",
      "Epoch 81 - loss train: 0.088854 loss validation: 0.336758 accuracy train: 0.974740 accuracy validation: 0.920500\n",
      "Epoch 82 - loss train: 0.087325 loss validation: 0.330991 accuracy train: 0.976100 accuracy validation: 0.923200\n",
      "Epoch 83 - loss train: 0.085439 loss validation: 0.331736 accuracy train: 0.976900 accuracy validation: 0.921000\n",
      "Epoch 84 - loss train: 0.083359 loss validation: 0.336723 accuracy train: 0.977520 accuracy validation: 0.918300\n",
      "Epoch 85 - loss train: 0.082328 loss validation: 0.335078 accuracy train: 0.978220 accuracy validation: 0.921500\n",
      "Epoch 86 - loss train: 0.083398 loss validation: 0.340020 accuracy train: 0.977840 accuracy validation: 0.918600\n",
      "Epoch 87 - loss train: 0.079760 loss validation: 0.335849 accuracy train: 0.978480 accuracy validation: 0.922200\n",
      "Epoch 88 - loss train: 0.080697 loss validation: 0.336900 accuracy train: 0.978440 accuracy validation: 0.919700\n",
      "Epoch 89 - loss train: 0.082066 loss validation: 0.339708 accuracy train: 0.978000 accuracy validation: 0.918900\n",
      "Epoch 90 - loss train: 0.078796 loss validation: 0.337591 accuracy train: 0.979520 accuracy validation: 0.921200\n",
      "Epoch 91 - loss train: 0.080436 loss validation: 0.343020 accuracy train: 0.978460 accuracy validation: 0.920300\n",
      "Epoch 92 - loss train: 0.077632 loss validation: 0.335426 accuracy train: 0.979400 accuracy validation: 0.921300\n",
      "Epoch 93 - loss train: 0.076198 loss validation: 0.337287 accuracy train: 0.980020 accuracy validation: 0.920800\n",
      "Epoch 94 - loss train: 0.075643 loss validation: 0.339731 accuracy train: 0.980340 accuracy validation: 0.920500\n",
      "Epoch 95 - loss train: 0.075501 loss validation: 0.338983 accuracy train: 0.980440 accuracy validation: 0.922400\n",
      "Epoch 96 - loss train: 0.075111 loss validation: 0.339608 accuracy train: 0.980760 accuracy validation: 0.921100\n",
      "Epoch 97 - loss train: 0.075891 loss validation: 0.339085 accuracy train: 0.979680 accuracy validation: 0.919400\n",
      "Epoch 98 - loss train: 0.074487 loss validation: 0.339633 accuracy train: 0.980980 accuracy validation: 0.921600\n",
      "Epoch 99 - loss train: 0.073911 loss validation: 0.341209 accuracy train: 0.980800 accuracy validation: 0.920700\n"
     ]
    }
   ],
   "source": [
    "double_train_stats = trainer(double_net, X_train, y_train, X_valid, y_valid, double_conf)"
   ]
  },
  {
   "cell_type": "code",
   "execution_count": 169,
   "metadata": {},
   "outputs": [
    {
     "name": "stdout",
     "output_type": "stream",
     "text": [
      "test accuracy for double hidden units:  0.9294\n"
     ]
    }
   ],
   "source": [
    "print(\"test accuracy for double hidden units: \", test(double_net, X_test, y_test, double_conf))"
   ]
  },
  {
   "cell_type": "code",
   "execution_count": 170,
   "metadata": {},
   "outputs": [
    {
     "data": {
      "image/png": "[encoded data removed]",
      "text/plain": [
       "<Figure size 432x288 with 1 Axes>"
      ]
     },
     "metadata": {
      "needs_background": "light"
     },
     "output_type": "display_data"
    }
   ],
   "source": [
    "visualize(doublt_train_stats['train_losses'], doublt_train_stats['valid_losses'], \"Double Units\")"
   ]
  },
  {
   "cell_type": "code",
   "execution_count": 171,
   "metadata": {},
   "outputs": [
    {
     "data": {
      "image/png": "[encoded data removed]",
      "text/plain": [
       "<Figure size 432x288 with 1 Axes>"
      ]
     },
     "metadata": {
      "needs_background": "light"
     },
     "output_type": "display_data"
    }
   ],
   "source": [
    "visualize(double_train_stats['train_accuracies'], double_train_stats['valid_accuracies'], \"Double Units\", False)"
   ]
  },
  {
   "cell_type": "markdown",
   "metadata": {},
   "source": [
    "#### ii. More hidden units"
   ]
  },
  {
   "cell_type": "code",
   "execution_count": 116,
   "metadata": {},
   "outputs": [],
   "source": [
    "new_conf = default_config()\n",
    "new_conf['layer_specs'] = [784, 50, 50, 10]\n",
    "new_net = Neuralnetwork(new_conf)"
   ]
  },
  {
   "cell_type": "code",
   "execution_count": 117,
   "metadata": {},
   "outputs": [
    {
     "name": "stdout",
     "output_type": "stream",
     "text": [
      "------- Model Config: \n",
      "Activation: tanh \n",
      "N Epoches: 100 \n",
      "N Batches: 195 \n",
      "Batch size: 256 \n",
      "Learning rate: 0.05 \n",
      "L2 lambda: 0 \n",
      "Momentum? True\n",
      "Gamma: 0.9\n"
     ]
    },
    {
     "data": {
      "application/vnd.jupyter.widget-view+json": {
       "model_id": "8101e81b3b2640abb14a90528485911f",
       "version_major": 2,
       "version_minor": 0
      },
      "text/plain": [
       "HBox(children=(IntProgress(value=0), HTML(value='')))"
      ]
     },
     "metadata": {},
     "output_type": "display_data"
    },
    {
     "name": "stdout",
     "output_type": "stream",
     "text": [
      "Epoch 0 - loss train: 1.044683 loss validation: 1.020386 accuracy train: 0.659740 accuracy validation: 0.669100\n",
      "Epoch 1 - loss train: 0.839669 loss validation: 0.822431 accuracy train: 0.727600 accuracy validation: 0.732700\n",
      "Epoch 2 - loss train: 0.739610 loss validation: 0.731449 accuracy train: 0.764740 accuracy validation: 0.764100\n",
      "Epoch 3 - loss train: 0.665378 loss validation: 0.651532 accuracy train: 0.790640 accuracy validation: 0.795400\n",
      "Epoch 4 - loss train: 0.621435 loss validation: 0.609687 accuracy train: 0.808160 accuracy validation: 0.809700\n",
      "Epoch 5 - loss train: 0.553061 loss validation: 0.552086 accuracy train: 0.829160 accuracy validation: 0.828600\n",
      "Epoch 6 - loss train: 0.530106 loss validation: 0.535361 accuracy train: 0.838520 accuracy validation: 0.837000\n",
      "Epoch 7 - loss train: 0.497538 loss validation: 0.520965 accuracy train: 0.847680 accuracy validation: 0.840100\n",
      "Epoch 8 - loss train: 0.469206 loss validation: 0.487697 accuracy train: 0.856300 accuracy validation: 0.852200\n",
      "Epoch 9 - loss train: 0.447932 loss validation: 0.470577 accuracy train: 0.862800 accuracy validation: 0.853900\n",
      "Epoch 10 - loss train: 0.431158 loss validation: 0.458273 accuracy train: 0.871320 accuracy validation: 0.860700\n",
      "Epoch 11 - loss train: 0.425469 loss validation: 0.453384 accuracy train: 0.871040 accuracy validation: 0.862200\n",
      "Epoch 12 - loss train: 0.410939 loss validation: 0.437685 accuracy train: 0.876980 accuracy validation: 0.867300\n",
      "Epoch 13 - loss train: 0.404383 loss validation: 0.434229 accuracy train: 0.878720 accuracy validation: 0.868200\n",
      "Epoch 14 - loss train: 0.380974 loss validation: 0.416265 accuracy train: 0.885480 accuracy validation: 0.873300\n",
      "Epoch 15 - loss train: 0.373511 loss validation: 0.404631 accuracy train: 0.888320 accuracy validation: 0.876100\n",
      "Epoch 16 - loss train: 0.359605 loss validation: 0.395222 accuracy train: 0.891560 accuracy validation: 0.882800\n",
      "Epoch 17 - loss train: 0.353216 loss validation: 0.383100 accuracy train: 0.893400 accuracy validation: 0.884800\n",
      "Epoch 18 - loss train: 0.342840 loss validation: 0.379961 accuracy train: 0.898540 accuracy validation: 0.886200\n",
      "Epoch 19 - loss train: 0.345279 loss validation: 0.390395 accuracy train: 0.896800 accuracy validation: 0.885100\n",
      "Epoch 20 - loss train: 0.337148 loss validation: 0.380328 accuracy train: 0.899800 accuracy validation: 0.888200\n",
      "Epoch 21 - loss train: 0.323890 loss validation: 0.365118 accuracy train: 0.903240 accuracy validation: 0.894100\n",
      "Epoch 22 - loss train: 0.319467 loss validation: 0.370216 accuracy train: 0.905640 accuracy validation: 0.889600\n",
      "Epoch 23 - loss train: 0.320430 loss validation: 0.366355 accuracy train: 0.907220 accuracy validation: 0.893800\n",
      "Epoch 24 - loss train: 0.306871 loss validation: 0.356694 accuracy train: 0.909180 accuracy validation: 0.896300\n",
      "Epoch 25 - loss train: 0.311863 loss validation: 0.357844 accuracy train: 0.908440 accuracy validation: 0.895800\n",
      "Epoch 26 - loss train: 0.302619 loss validation: 0.351442 accuracy train: 0.909700 accuracy validation: 0.896500\n",
      "Epoch 27 - loss train: 0.305994 loss validation: 0.357419 accuracy train: 0.910300 accuracy validation: 0.898400\n",
      "Epoch 28 - loss train: 0.288951 loss validation: 0.343436 accuracy train: 0.913780 accuracy validation: 0.903200\n",
      "Epoch 29 - loss train: 0.293463 loss validation: 0.353743 accuracy train: 0.913440 accuracy validation: 0.897900\n",
      "Epoch 30 - loss train: 0.291499 loss validation: 0.349093 accuracy train: 0.913100 accuracy validation: 0.902000\n",
      "Epoch 31 - loss train: 0.276074 loss validation: 0.332008 accuracy train: 0.920000 accuracy validation: 0.906100\n",
      "Epoch 32 - loss train: 0.279218 loss validation: 0.338521 accuracy train: 0.918660 accuracy validation: 0.904600\n",
      "Epoch 33 - loss train: 0.283473 loss validation: 0.336729 accuracy train: 0.916180 accuracy validation: 0.905000\n",
      "Epoch 34 - loss train: 0.273909 loss validation: 0.334113 accuracy train: 0.918300 accuracy validation: 0.907800\n",
      "Epoch 35 - loss train: 0.278100 loss validation: 0.333443 accuracy train: 0.917240 accuracy validation: 0.905100\n",
      "Epoch 36 - loss train: 0.260308 loss validation: 0.331080 accuracy train: 0.923920 accuracy validation: 0.907400\n",
      "Epoch 37 - loss train: 0.259997 loss validation: 0.322797 accuracy train: 0.923540 accuracy validation: 0.908500\n",
      "Epoch 38 - loss train: 0.254320 loss validation: 0.319877 accuracy train: 0.925060 accuracy validation: 0.909800\n",
      "Epoch 39 - loss train: 0.256872 loss validation: 0.326620 accuracy train: 0.925240 accuracy validation: 0.907000\n",
      "Epoch 40 - loss train: 0.256578 loss validation: 0.331461 accuracy train: 0.924400 accuracy validation: 0.905900\n",
      "Epoch 41 - loss train: 0.245270 loss validation: 0.323060 accuracy train: 0.928340 accuracy validation: 0.911400\n",
      "Epoch 42 - loss train: 0.240760 loss validation: 0.313834 accuracy train: 0.928920 accuracy validation: 0.913400\n",
      "Epoch 43 - loss train: 0.249144 loss validation: 0.320303 accuracy train: 0.926000 accuracy validation: 0.909700\n",
      "Epoch 44 - loss train: 0.235165 loss validation: 0.313958 accuracy train: 0.929800 accuracy validation: 0.912200\n",
      "Epoch 45 - loss train: 0.238427 loss validation: 0.314497 accuracy train: 0.929460 accuracy validation: 0.912500\n",
      "Epoch 46 - loss train: 0.232440 loss validation: 0.317899 accuracy train: 0.932080 accuracy validation: 0.912200\n",
      "Epoch 47 - loss train: 0.227412 loss validation: 0.309584 accuracy train: 0.934380 accuracy validation: 0.913200\n",
      "Epoch 48 - loss train: 0.223315 loss validation: 0.315095 accuracy train: 0.934880 accuracy validation: 0.914600\n",
      "Epoch 49 - loss train: 0.216165 loss validation: 0.306493 accuracy train: 0.936400 accuracy validation: 0.915600\n",
      "Epoch 50 - loss train: 0.215882 loss validation: 0.309952 accuracy train: 0.935760 accuracy validation: 0.913600\n",
      "Epoch 51 - loss train: 0.223900 loss validation: 0.309990 accuracy train: 0.933760 accuracy validation: 0.916300\n",
      "Epoch 52 - loss train: 0.213573 loss validation: 0.302991 accuracy train: 0.937160 accuracy validation: 0.915800\n",
      "Epoch 53 - loss train: 0.214852 loss validation: 0.305684 accuracy train: 0.936660 accuracy validation: 0.914200\n",
      "Epoch 54 - loss train: 0.219688 loss validation: 0.306807 accuracy train: 0.934860 accuracy validation: 0.914800\n",
      "Epoch 55 - loss train: 0.215877 loss validation: 0.310554 accuracy train: 0.935920 accuracy validation: 0.913500\n",
      "Epoch 56 - loss train: 0.207849 loss validation: 0.302612 accuracy train: 0.938400 accuracy validation: 0.915900\n",
      "Epoch 57 - loss train: 0.219757 loss validation: 0.308222 accuracy train: 0.934140 accuracy validation: 0.915300\n",
      "Epoch 58 - loss train: 0.203500 loss validation: 0.304826 accuracy train: 0.940120 accuracy validation: 0.916400\n",
      "Epoch 59 - loss train: 0.211264 loss validation: 0.311937 accuracy train: 0.937700 accuracy validation: 0.915200\n",
      "Epoch 60 - loss train: 0.197544 loss validation: 0.299269 accuracy train: 0.942120 accuracy validation: 0.917900\n",
      "Epoch 61 - loss train: 0.199539 loss validation: 0.309589 accuracy train: 0.940540 accuracy validation: 0.914400\n",
      "Epoch 62 - loss train: 0.210768 loss validation: 0.309783 accuracy train: 0.937560 accuracy validation: 0.914900\n",
      "Epoch 63 - loss train: 0.201542 loss validation: 0.304390 accuracy train: 0.941080 accuracy validation: 0.919800\n",
      "Epoch 64 - loss train: 0.198133 loss validation: 0.298704 accuracy train: 0.941360 accuracy validation: 0.919700\n",
      "Epoch 65 - loss train: 0.197982 loss validation: 0.300059 accuracy train: 0.941780 accuracy validation: 0.919400\n",
      "Epoch 66 - loss train: 0.197843 loss validation: 0.299571 accuracy train: 0.941380 accuracy validation: 0.917800\n",
      "Epoch 67 - loss train: 0.194016 loss validation: 0.299844 accuracy train: 0.942940 accuracy validation: 0.920000\n",
      "Epoch 68 - loss train: 0.193518 loss validation: 0.302816 accuracy train: 0.943260 accuracy validation: 0.918100\n",
      "Epoch 69 - loss train: 0.186187 loss validation: 0.301179 accuracy train: 0.945560 accuracy validation: 0.916900\n",
      "Epoch 70 - loss train: 0.193368 loss validation: 0.304896 accuracy train: 0.942300 accuracy validation: 0.917000\n",
      "Epoch 71 - loss train: 0.188909 loss validation: 0.303660 accuracy train: 0.943640 accuracy validation: 0.917700\n",
      "Epoch 72 - loss train: 0.182592 loss validation: 0.301815 accuracy train: 0.945920 accuracy validation: 0.917400\n"
     ]
    },
    {
     "name": "stdout",
     "output_type": "stream",
     "text": [
      "Epoch 73 - loss train: 0.181946 loss validation: 0.303289 accuracy train: 0.945980 accuracy validation: 0.916500\n",
      "Epoch 74 - loss train: 0.189663 loss validation: 0.301462 accuracy train: 0.943900 accuracy validation: 0.919900\n",
      "Epoch 75 - loss train: 0.182172 loss validation: 0.300698 accuracy train: 0.946600 accuracy validation: 0.919100\n",
      "Epoch 76 - loss train: 0.175714 loss validation: 0.302585 accuracy train: 0.947820 accuracy validation: 0.918800\n",
      "Epoch 77 - loss train: 0.182899 loss validation: 0.300428 accuracy train: 0.946460 accuracy validation: 0.920800\n",
      "Epoch 78 - loss train: 0.173560 loss validation: 0.295645 accuracy train: 0.950660 accuracy validation: 0.920800\n",
      "Epoch 79 - loss train: 0.172336 loss validation: 0.297396 accuracy train: 0.950240 accuracy validation: 0.921700\n",
      "Epoch 80 - loss train: 0.178195 loss validation: 0.299091 accuracy train: 0.947540 accuracy validation: 0.919900\n",
      "Epoch 81 - loss train: 0.175178 loss validation: 0.300440 accuracy train: 0.948480 accuracy validation: 0.920900\n",
      "Epoch 82 - loss train: 0.175202 loss validation: 0.300586 accuracy train: 0.948420 accuracy validation: 0.919800\n",
      "Epoch 83 - loss train: 0.169083 loss validation: 0.299291 accuracy train: 0.950620 accuracy validation: 0.920200\n",
      "Epoch 84 - loss train: 0.180214 loss validation: 0.308554 accuracy train: 0.946360 accuracy validation: 0.918600\n",
      "Epoch 85 - loss train: 0.172566 loss validation: 0.304524 accuracy train: 0.949140 accuracy validation: 0.919500\n",
      "Epoch 86 - loss train: 0.164328 loss validation: 0.297566 accuracy train: 0.952380 accuracy validation: 0.922100\n",
      "Epoch 87 - loss train: 0.171628 loss validation: 0.304934 accuracy train: 0.949060 accuracy validation: 0.920200\n",
      "Epoch 88 - loss train: 0.165890 loss validation: 0.303133 accuracy train: 0.951320 accuracy validation: 0.919800\n",
      "Epoch 89 - loss train: 0.163915 loss validation: 0.296951 accuracy train: 0.951900 accuracy validation: 0.920900\n",
      "Epoch 90 - loss train: 0.161819 loss validation: 0.299520 accuracy train: 0.952360 accuracy validation: 0.920900\n",
      "Epoch 91 - loss train: 0.159966 loss validation: 0.300113 accuracy train: 0.953560 accuracy validation: 0.922500\n",
      "Epoch 92 - loss train: 0.161956 loss validation: 0.300041 accuracy train: 0.953020 accuracy validation: 0.922300\n",
      "Epoch 93 - loss train: 0.167312 loss validation: 0.306304 accuracy train: 0.950860 accuracy validation: 0.920800\n",
      "Epoch 94 - loss train: 0.166970 loss validation: 0.306131 accuracy train: 0.951500 accuracy validation: 0.920200\n",
      "Epoch 95 - loss train: 0.160956 loss validation: 0.301731 accuracy train: 0.953240 accuracy validation: 0.921700\n",
      "Epoch 96 - loss train: 0.160285 loss validation: 0.300158 accuracy train: 0.952960 accuracy validation: 0.924400\n",
      "Epoch 97 - loss train: 0.152516 loss validation: 0.302741 accuracy train: 0.956060 accuracy validation: 0.921700\n",
      "Epoch 98 - loss train: 0.158446 loss validation: 0.304045 accuracy train: 0.953260 accuracy validation: 0.920200\n",
      "Epoch 99 - loss train: 0.157276 loss validation: 0.304503 accuracy train: 0.954920 accuracy validation: 0.919800\n"
     ]
    }
   ],
   "source": [
    "new_train_stats = trainer(new_net, X_train, y_train, X_valid, y_valid, new_conf)"
   ]
  },
  {
   "cell_type": "code",
   "execution_count": 172,
   "metadata": {},
   "outputs": [
    {
     "name": "stdout",
     "output_type": "stream",
     "text": [
      "test accuracy for 2 hidden layers:  0.9203\n"
     ]
    }
   ],
   "source": [
    "print(\"test accuracy for 2 hidden layers: \", test(new_net, X_test, y_test, new_conf))"
   ]
  },
  {
   "cell_type": "code",
   "execution_count": 167,
   "metadata": {},
   "outputs": [
    {
     "data": {
      "image/png": "[encoded data removed]",
      "text/plain": [
       "<Figure size 432x288 with 1 Axes>"
      ]
     },
     "metadata": {
      "needs_background": "light"
     },
     "output_type": "display_data"
    }
   ],
   "source": [
    "visualize(new_train_stats['train_losses'], new_train_stats['valid_losses'], \"Two Hidden Layers\")"
   ]
  },
  {
   "cell_type": "code",
   "execution_count": 168,
   "metadata": {},
   "outputs": [
    {
     "data": {
      "image/png": "[encoded data removed]",
      "text/plain": [
       "<Figure size 432x288 with 1 Axes>"
      ]
     },
     "metadata": {
      "needs_background": "light"
     },
     "output_type": "display_data"
    }
   ],
   "source": [
    "visualize(new_train_stats['train_accuracies'], new_train_stats['valid_accuracies'], \"Two Hidden Layers\", False)"
   ]
  },
  {
   "cell_type": "code",
   "execution_count": 181,
   "metadata": {},
   "outputs": [],
   "source": [
    "three_conf = default_config()\n",
    "three_conf['layer_specs'] = [784, 50, 50, 50, 10]\n",
    "three_net = Neuralnetwork(three_conf)"
   ]
  },
  {
   "cell_type": "code",
   "execution_count": null,
   "metadata": {},
   "outputs": [],
   "source": [
    "three_train_stats = trainer(three_net, X_train, y_train, X_valid, y_valid, three_conf)"
   ]
  },
  {
   "cell_type": "code",
   "execution_count": null,
   "metadata": {},
   "outputs": [],
   "source": [
    "print(\"test accuracy for 2 hidden layers: \", test(three_net, X_test, y_test, three_conf))"
   ]
  },
  {
   "cell_type": "code",
   "execution_count": null,
   "metadata": {},
   "outputs": [],
   "source": [
    "visualize(three_train_stats['train_losses'], three_train_stats['valid_losses'], \"Three Hidden Layers\")"
   ]
  },
  {
   "cell_type": "code",
   "execution_count": null,
   "metadata": {},
   "outputs": [],
   "source": [
    "visualize(three_train_stats['train_accuracies'], three_train_stats['valid_accuracies'], \"Three Hidden Layers\", False)"
   ]
  }
 ],
 "metadata": {
  "kernelspec": {
   "display_name": "Python 3",
   "language": "python",
   "name": "python3"
  },
  "language_info": {
   "codemirror_mode": {
    "name": "ipython",
    "version": 3
   },
   "file_extension": ".py",
   "mimetype": "text/x-python",
   "name": "python",
   "nbconvert_exporter": "python",
   "pygments_lexer": "ipython3",
   "version": "3.7.1"
  }
 },
 "nbformat": 4,
 "nbformat_minor": 2
}
